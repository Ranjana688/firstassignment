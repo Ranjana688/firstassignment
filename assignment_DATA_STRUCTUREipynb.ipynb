{
  "nbformat": 4,
  "nbformat_minor": 0,
  "metadata": {
    "colab": {
      "provenance": [],
      "toc_visible": true,
      "authorship_tag": "ABX9TyMQtvf4Gvb3+GJoSMB+LVF3",
      "include_colab_link": true
    },
    "kernelspec": {
      "name": "python3",
      "display_name": "Python 3"
    },
    "language_info": {
      "name": "python"
    }
  },
  "cells": [
    {
      "cell_type": "markdown",
      "metadata": {
        "id": "view-in-github",
        "colab_type": "text"
      },
      "source": [
        "<a href=\"https://colab.research.google.com/github/Ranjana688/firstassignment/blob/main/assignment_DATA_STRUCTUREipynb.ipynb\" target=\"_parent\"><img src=\"https://colab.research.google.com/assets/colab-badge.svg\" alt=\"Open In Colab\"/></a>"
      ]
    },
    {
      "cell_type": "markdown",
      "source": [
        "1. Write a code to reverse a string\n"
      ],
      "metadata": {
        "id": "tigt7BXBDAID"
      }
    },
    {
      "cell_type": "code",
      "source": [
        "str = \"hello everyone\"\n",
        "reverse_str = str[::-1]\n",
        "reverse_str"
      ],
      "metadata": {
        "colab": {
          "base_uri": "https://localhost:8080/",
          "height": 35
        },
        "id": "4ypf-wOBDC7Q",
        "outputId": "284b921d-4074-4a6e-9ceb-ebd5d2c2cf7b"
      },
      "execution_count": 2,
      "outputs": [
        {
          "output_type": "execute_result",
          "data": {
            "text/plain": [
              "'enoyreve olleh'"
            ],
            "application/vnd.google.colaboratory.intrinsic+json": {
              "type": "string"
            }
          },
          "metadata": {},
          "execution_count": 2
        }
      ]
    },
    {
      "cell_type": "markdown",
      "source": [
        "2 Write a code to count the number of vowels in a string"
      ],
      "metadata": {
        "id": "ntfTVCSODYIK"
      }
    },
    {
      "cell_type": "code",
      "source": [
        "str1 = \"hello, I'm study python today\"\n",
        "vowel = \"aeiouAEIOU\"\n",
        "cout =0\n",
        "for i in str1:\n",
        "  if i in vowel:\n",
        "    cout +=1\n",
        "print(cout)"
      ],
      "metadata": {
        "colab": {
          "base_uri": "https://localhost:8080/"
        },
        "id": "uOMLm0PFDmtl",
        "outputId": "e01bce9a-585d-4a51-e6a6-4a169b7cbf5b"
      },
      "execution_count": 14,
      "outputs": [
        {
          "output_type": "stream",
          "name": "stdout",
          "text": [
            "7\n"
          ]
        }
      ]
    },
    {
      "cell_type": "markdown",
      "source": [
        "3. Write a code to check if a given string is a palindrome or not"
      ],
      "metadata": {
        "id": "KUCAeOPaGt02"
      }
    },
    {
      "cell_type": "code",
      "source": [
        "string = \"madam\"\n",
        "\n",
        "\n",
        "if string == string[::-1]:\n",
        "  print(\"string is palindrome\")\n",
        "else:\n",
        "  print(\"string is not palindrome\")"
      ],
      "metadata": {
        "colab": {
          "base_uri": "https://localhost:8080/"
        },
        "id": "rXYraCFGGweN",
        "outputId": "b25a3d7c-48f1-4c3f-a17a-b802af5dfb6a"
      },
      "execution_count": 18,
      "outputs": [
        {
          "output_type": "stream",
          "name": "stdout",
          "text": [
            "string is palindrome\n"
          ]
        }
      ]
    },
    {
      "cell_type": "markdown",
      "source": [
        "4. Write a code to check if two given strings are anagrams of each other"
      ],
      "metadata": {
        "id": "WMbpDDTwHd25"
      }
    },
    {
      "cell_type": "code",
      "source": [
        "str1 = \"Silent\"\n",
        "str2 = \"listen\"\n",
        "\n",
        "str_1 = str1.replace(\" \",\"\").lower()\n",
        "str_2 = str2.replace(\" \",\"\").lower()\n",
        "if sorted(str_1) == sorted(str_2):\n",
        "  print(str1,\"is anagram to \", str2)\n",
        "else:\n",
        "  print(str1,\"is not anagram to \", str2)"
      ],
      "metadata": {
        "colab": {
          "base_uri": "https://localhost:8080/"
        },
        "id": "km8s_xARHjgI",
        "outputId": "8fd64eff-dba5-4b05-8f78-2a01c5e93acf"
      },
      "execution_count": 21,
      "outputs": [
        {
          "output_type": "stream",
          "name": "stdout",
          "text": [
            "Silent is anagram to  listen\n"
          ]
        }
      ]
    },
    {
      "cell_type": "markdown",
      "source": [
        "5. Write a code to find all occurrences of a given substring within another string"
      ],
      "metadata": {
        "id": "RIXsCQUPJdH4"
      }
    },
    {
      "cell_type": "code",
      "source": [
        "STr = \"hello\"\n",
        "substr = \"l\"\n",
        "i=0\n",
        "while i < len(STr):\n",
        "  if STr[i]==substr:\n",
        "    print(i)\n",
        "  i+=1"
      ],
      "metadata": {
        "colab": {
          "base_uri": "https://localhost:8080/"
        },
        "id": "r-j4iFonKIYI",
        "outputId": "c63072f4-ca3c-4c03-fd04-6f0a48b14d88"
      },
      "execution_count": 26,
      "outputs": [
        {
          "output_type": "stream",
          "name": "stdout",
          "text": [
            "2\n",
            "3\n"
          ]
        }
      ]
    },
    {
      "cell_type": "markdown",
      "source": [
        "6. Write a code to perform basic string compression using the counts of repeated characters"
      ],
      "metadata": {
        "id": "OctuwUEuLcW5"
      }
    },
    {
      "cell_type": "code",
      "source": [
        "def compress_string(s):\n",
        "    if not s:\n",
        "        return \"\"\n",
        "\n",
        "    compressed = []\n",
        "    count = 1\n",
        "\n",
        "    for i in range(1, len(s)):\n",
        "        if s[i] == s[i - 1]:\n",
        "            count += 1\n",
        "        else:\n",
        "            compressed.append(s[i - 1] + str(count))\n",
        "            count = 1\n",
        "\n",
        "\n",
        "    compressed.append(s[-1] + str(count))\n",
        "\n",
        "    compressed_string = ''.join(compressed)\n",
        "\n",
        "\n",
        "    return compressed_string if len(compressed_string) < len(s) else s\n",
        "\n",
        "# Example usage\n",
        "input_string = \"aabcccccaaa\"\n",
        "result = compress_string(input_string)\n",
        "print(f\"Original string: {input_string}\")\n",
        "print(f\"Compressed string: {result}\")\n"
      ],
      "metadata": {
        "colab": {
          "base_uri": "https://localhost:8080/",
          "height": 332
        },
        "id": "jVOqbC_xLROg",
        "outputId": "950783ed-e411-42a6-fd14-8b25b62cefde"
      },
      "execution_count": 43,
      "outputs": [
        {
          "output_type": "error",
          "ename": "TypeError",
          "evalue": "'str' object is not callable",
          "traceback": [
            "\u001b[0;31m---------------------------------------------------------------------------\u001b[0m",
            "\u001b[0;31mTypeError\u001b[0m                                 Traceback (most recent call last)",
            "\u001b[0;32m<ipython-input-43-85cd4bd695ce>\u001b[0m in \u001b[0;36m<cell line: 25>\u001b[0;34m()\u001b[0m\n\u001b[1;32m     23\u001b[0m \u001b[0;31m# Example usage\u001b[0m\u001b[0;34m\u001b[0m\u001b[0;34m\u001b[0m\u001b[0m\n\u001b[1;32m     24\u001b[0m \u001b[0minput_string\u001b[0m \u001b[0;34m=\u001b[0m \u001b[0;34m\"aabcccccaaa\"\u001b[0m\u001b[0;34m\u001b[0m\u001b[0;34m\u001b[0m\u001b[0m\n\u001b[0;32m---> 25\u001b[0;31m \u001b[0mresult\u001b[0m \u001b[0;34m=\u001b[0m \u001b[0mcompress_string\u001b[0m\u001b[0;34m(\u001b[0m\u001b[0minput_string\u001b[0m\u001b[0;34m)\u001b[0m\u001b[0;34m\u001b[0m\u001b[0;34m\u001b[0m\u001b[0m\n\u001b[0m\u001b[1;32m     26\u001b[0m \u001b[0mprint\u001b[0m\u001b[0;34m(\u001b[0m\u001b[0;34mf\"Original string: {input_string}\"\u001b[0m\u001b[0;34m)\u001b[0m\u001b[0;34m\u001b[0m\u001b[0;34m\u001b[0m\u001b[0m\n\u001b[1;32m     27\u001b[0m \u001b[0mprint\u001b[0m\u001b[0;34m(\u001b[0m\u001b[0;34mf\"Compressed string: {result}\"\u001b[0m\u001b[0;34m)\u001b[0m\u001b[0;34m\u001b[0m\u001b[0;34m\u001b[0m\u001b[0m\n",
            "\u001b[0;32m<ipython-input-43-85cd4bd695ce>\u001b[0m in \u001b[0;36mcompress_string\u001b[0;34m(s)\u001b[0m\n\u001b[1;32m     10\u001b[0m             \u001b[0mcount\u001b[0m \u001b[0;34m+=\u001b[0m \u001b[0;36m1\u001b[0m\u001b[0;34m\u001b[0m\u001b[0;34m\u001b[0m\u001b[0m\n\u001b[1;32m     11\u001b[0m         \u001b[0;32melse\u001b[0m\u001b[0;34m:\u001b[0m\u001b[0;34m\u001b[0m\u001b[0;34m\u001b[0m\u001b[0m\n\u001b[0;32m---> 12\u001b[0;31m             \u001b[0mcompressed\u001b[0m\u001b[0;34m.\u001b[0m\u001b[0mappend\u001b[0m\u001b[0;34m(\u001b[0m\u001b[0ms\u001b[0m\u001b[0;34m[\u001b[0m\u001b[0mi\u001b[0m \u001b[0;34m-\u001b[0m \u001b[0;36m1\u001b[0m\u001b[0;34m]\u001b[0m \u001b[0;34m+\u001b[0m \u001b[0mstr\u001b[0m\u001b[0;34m(\u001b[0m\u001b[0mcount\u001b[0m\u001b[0;34m)\u001b[0m\u001b[0;34m)\u001b[0m\u001b[0;34m\u001b[0m\u001b[0;34m\u001b[0m\u001b[0m\n\u001b[0m\u001b[1;32m     13\u001b[0m             \u001b[0mcount\u001b[0m \u001b[0;34m=\u001b[0m \u001b[0;36m1\u001b[0m\u001b[0;34m\u001b[0m\u001b[0;34m\u001b[0m\u001b[0m\n\u001b[1;32m     14\u001b[0m \u001b[0;34m\u001b[0m\u001b[0m\n",
            "\u001b[0;31mTypeError\u001b[0m: 'str' object is not callable"
          ]
        }
      ]
    },
    {
      "cell_type": "markdown",
      "source": [
        "7 Write a code to determine if a string has all unique characters"
      ],
      "metadata": {
        "id": "qjCQ15iVP2xF"
      }
    },
    {
      "cell_type": "code",
      "source": [
        "def has_unique_characters(s):\n",
        "    s = sorted(s)\n",
        "    for i in range(len(s) - 1):\n",
        "        if s[i] == s[i + 1]:\n",
        "            return False\n",
        "    return True\n",
        "\n",
        "\n",
        "string = \"abaadvraa\"\n",
        "print(f\"Does '{string}' have all unique characters? {has_unique_characters(string)}\")"
      ],
      "metadata": {
        "colab": {
          "base_uri": "https://localhost:8080/"
        },
        "id": "Dq06ael3-3JC",
        "outputId": "4fda8d7f-4e09-49fa-e761-6bef88a37c36"
      },
      "execution_count": 23,
      "outputs": [
        {
          "output_type": "stream",
          "name": "stdout",
          "text": [
            "Does 'abaadvraa' have all unique characters? False\n"
          ]
        }
      ]
    },
    {
      "cell_type": "markdown",
      "source": [
        "8. Write a code to convert a given string to uppercase or lowercase"
      ],
      "metadata": {
        "id": "Pm9xOerNByss"
      }
    },
    {
      "cell_type": "code",
      "source": [
        "str= input(\"Enter the string\")\n",
        "\n",
        "print(str.upper())\n",
        "print(str.lower())"
      ],
      "metadata": {
        "colab": {
          "base_uri": "https://localhost:8080/"
        },
        "id": "zEL0L4QQ--29",
        "outputId": "f9a7a353-afcf-41e6-96dd-42861100260f"
      },
      "execution_count": 24,
      "outputs": [
        {
          "output_type": "stream",
          "name": "stdout",
          "text": [
            "Enter the stringranjANA\n",
            "RANJANA\n",
            "ranjana\n"
          ]
        }
      ]
    },
    {
      "cell_type": "markdown",
      "source": [
        "9. Write a code to count the number of words in a string"
      ],
      "metadata": {
        "id": "T4X8fYgCCLCC"
      }
    },
    {
      "cell_type": "code",
      "source": [
        "str= input(\"Enter the string\")\n",
        "\n",
        "count = 0\n",
        "for i in range(0,len(str)):\n",
        "  count+=1\n",
        "  if str[i] == \" \":\n",
        "    count-=1\n",
        "print(count)"
      ],
      "metadata": {
        "colab": {
          "base_uri": "https://localhost:8080/"
        },
        "id": "s1_0K6vQCFTE",
        "outputId": "27dfa0be-6e61-4daa-aec6-8ee1f2ce292c"
      },
      "execution_count": 28,
      "outputs": [
        {
          "output_type": "stream",
          "name": "stdout",
          "text": [
            "Enter the stringranjan a\n",
            "7\n"
          ]
        }
      ]
    },
    {
      "cell_type": "markdown",
      "source": [
        "10. Write a code to concatenate two strings without using the + operator"
      ],
      "metadata": {
        "id": "O5TjPrU_Dffo"
      }
    },
    {
      "cell_type": "code",
      "source": [
        "str1 = input(\"Enter the string1 \")\n",
        "str2 = input(\"Enter the string2 \")\n",
        "print(str1+\" \"+ str2)"
      ],
      "metadata": {
        "colab": {
          "base_uri": "https://localhost:8080/"
        },
        "id": "KK_IG2kqCv7b",
        "outputId": "dd5bc8db-0c8b-40e1-d799-170de3c8868f"
      },
      "execution_count": 31,
      "outputs": [
        {
          "output_type": "stream",
          "name": "stdout",
          "text": [
            "Enter the string1 ranjana\n",
            "Enter the string2 singh\n",
            "ranjana singh\n"
          ]
        }
      ]
    },
    {
      "cell_type": "markdown",
      "source": [
        "11. Write a code to remove all occurrences of a specific element from a list"
      ],
      "metadata": {
        "id": "5nW0vhYQD6kf"
      }
    },
    {
      "cell_type": "code",
      "source": [
        "lst = input(\"enter the list \")\n",
        "element = int(input(\"enter the element\"))\n",
        "\n",
        "for i in range(0,len(lst)):\n",
        "  if lst[i] == element:\n",
        "    lst.pop(element)\n",
        ""
      ],
      "metadata": {
        "colab": {
          "base_uri": "https://localhost:8080/"
        },
        "id": "3kqe7BFiEbpW",
        "outputId": "f9646129-b85c-47d7-c7c3-939b5374f854"
      },
      "execution_count": 39,
      "outputs": [
        {
          "name": "stdout",
          "output_type": "stream",
          "text": [
            "enter the list 12345\n",
            "enter the element5\n"
          ]
        }
      ]
    },
    {
      "cell_type": "markdown",
      "source": [
        "12. Implement a code to find the second largest number in a given list of integers"
      ],
      "metadata": {
        "id": "xfA4JtEhGoFz"
      }
    },
    {
      "cell_type": "code",
      "source": [
        "def find_second_largest(nums):\n",
        "    if len(nums) < 2:\n",
        "        return None\n",
        "\n",
        "    largest = second_largest = float('-inf')\n",
        "    for num in nums:\n",
        "        if num > largest:\n",
        "            second_largest = largest\n",
        "            largest = num\n",
        "        elif num > second_largest and num != largest:\n",
        "            second_largest = num\n",
        "\n",
        "    return second_largest if second_largest != float('-inf') else None\n",
        "\n",
        "    nums = [5, 2, 9, 1, 5, 6]\n",
        "    second_largest = find_second_largest(nums)\n",
        "    print(f\"The second largest number in the list is: {second_largest}\")"
      ],
      "metadata": {
        "id": "Ybod6qO6FrNN"
      },
      "execution_count": 44,
      "outputs": []
    },
    {
      "cell_type": "markdown",
      "source": [
        "13. Create a code to count the occurrences of each element in a list and return a dictionary with elements as\n",
        "keys and their counts as values"
      ],
      "metadata": {
        "id": "Q2Ee2TBxHsj0"
      }
    },
    {
      "cell_type": "code",
      "source": [
        "lst = [1,2,2,3,4,4,4,5,5,5,6,6,6,6,6,6,1]\n",
        "counts = {}\n",
        "for elem in lst:\n",
        "  counts[elem] = counts.get(elem, 0) + 1\n",
        "print(counts)\n"
      ],
      "metadata": {
        "colab": {
          "base_uri": "https://localhost:8080/"
        },
        "id": "OrhDGs0KHNmk",
        "outputId": "db34bbb3-cf9a-4430-e37d-524fe54a6f2e"
      },
      "execution_count": 51,
      "outputs": [
        {
          "output_type": "stream",
          "name": "stdout",
          "text": [
            "{1: 2, 2: 2, 3: 1, 4: 3, 5: 3, 6: 6}\n"
          ]
        }
      ]
    },
    {
      "cell_type": "markdown",
      "source": [
        "14. Write a code to reverse a list in-place without using any built-in reverse functions"
      ],
      "metadata": {
        "id": "6sz5XuhAJJZL"
      }
    },
    {
      "cell_type": "code",
      "source": [
        "lst = [1,2,3,4,5,6,7,7,8]\n",
        "r_list = lst[::-1]\n",
        "print(r_list)"
      ],
      "metadata": {
        "colab": {
          "base_uri": "https://localhost:8080/"
        },
        "id": "yJAY-NedIcXu",
        "outputId": "b870c28f-c523-473b-e15d-b2f0676a633c"
      },
      "execution_count": 52,
      "outputs": [
        {
          "output_type": "stream",
          "name": "stdout",
          "text": [
            "[8, 7, 7, 6, 5, 4, 3, 2, 1]\n"
          ]
        }
      ]
    },
    {
      "cell_type": "markdown",
      "source": [
        "15. Implement a code to find and remove duplicates from a list while preserving the original order of\n",
        "elements"
      ],
      "metadata": {
        "id": "x4vA8zr8Jcyv"
      }
    },
    {
      "cell_type": "code",
      "source": [
        "def remove_duplicates(lst):\n",
        "    seen = set()\n",
        "    result = []\n",
        "    for item in lst:\n",
        "        if item not in seen:\n",
        "            result.append(item)\n",
        "            seen.add(item)\n",
        "    return result\n",
        "\n",
        "\n",
        "lst = [1, 2, 2, 3, 4, 4, 4, 5, 1]\n",
        "result = remove_duplicates(lst)\n",
        "print(f\"Original list: {lst}\")\n",
        "print(f\"List after removing duplicates: {result}\")\n",
        "\n"
      ],
      "metadata": {
        "colab": {
          "base_uri": "https://localhost:8080/"
        },
        "id": "3BFvZCOEJYAq",
        "outputId": "7daf4b14-2e03-40b0-82ac-709462fac386"
      },
      "execution_count": 55,
      "outputs": [
        {
          "output_type": "stream",
          "name": "stdout",
          "text": [
            "Original list: [1, 2, 2, 3, 4, 4, 4, 5, 1]\n",
            "List after removing duplicates: [1, 2, 3, 4, 5]\n"
          ]
        }
      ]
    },
    {
      "cell_type": "markdown",
      "source": [
        "16. Create a code to check if a given list is sorted (either in ascending or descending order) or not"
      ],
      "metadata": {
        "id": "NkHO4sMQKcLh"
      }
    },
    {
      "cell_type": "code",
      "source": [
        "def is_sorted(lst):\n",
        "    if len(lst) < 2:\n",
        "        return True, \"ascending\"\n",
        "\n",
        "    is_ascending = all(lst[i] <= lst[i + 1] for i in range(len(lst) - 1))\n",
        "    is_descending = all(lst[i] >= lst[i + 1] for i in range(len(lst) - 1))\n",
        "\n",
        "    if is_ascending:\n",
        "        return True, \"ascending\"\n",
        "    elif is_descending:\n",
        "        return True, \"descending\"\n",
        "    else:\n",
        "        return False, None\n",
        "\n",
        "\n",
        "lst1 = [1, 2, 3, 4, 5]\n",
        "lst2 = [5, 4, 3, 2, 1]\n",
        "lst3 = [1, 3, 2, 5, 4]\n",
        "\n",
        "print(f\"List: {lst1} -> Sorted: {is_sorted(lst1)}\")\n",
        "print(f\"List: {lst2} -> Sorted: {is_sorted(lst2)}\")\n",
        "print(f\"List: {lst3} -> Sorted: {is_sorted(lst3)}\")"
      ],
      "metadata": {
        "colab": {
          "base_uri": "https://localhost:8080/"
        },
        "id": "uGWXGNmFKCns",
        "outputId": "198268c6-4709-4ba9-8610-ade203f73173"
      },
      "execution_count": 56,
      "outputs": [
        {
          "output_type": "stream",
          "name": "stdout",
          "text": [
            "List: [1, 2, 3, 4, 5] -> Sorted: (True, 'ascending')\n",
            "List: [5, 4, 3, 2, 1] -> Sorted: (True, 'descending')\n",
            "List: [1, 3, 2, 5, 4] -> Sorted: (False, None)\n"
          ]
        }
      ]
    },
    {
      "cell_type": "markdown",
      "source": [
        "17. Write a code to merge two sorted lists into a single sorted list"
      ],
      "metadata": {
        "id": "6XFo0W-DLaei"
      }
    },
    {
      "cell_type": "code",
      "source": [
        "lst1 = [2,4,5,6,8,5,4]\n",
        "lst2 = [1,4,5,6,7,8]\n",
        "print(sorted(lst1))\n",
        "print(sorted(lst2))\n",
        "print(sorted(lst1+lst2))"
      ],
      "metadata": {
        "colab": {
          "base_uri": "https://localhost:8080/"
        },
        "id": "pjfDY0mFLVas",
        "outputId": "f25a8b85-df65-45fc-c711-dfee20e182e1"
      },
      "execution_count": 60,
      "outputs": [
        {
          "output_type": "stream",
          "name": "stdout",
          "text": [
            "[2, 4, 4, 5, 5, 6, 8]\n",
            "[1, 4, 5, 6, 7, 8]\n",
            "[1, 2, 4, 4, 4, 5, 5, 5, 6, 6, 7, 8, 8]\n"
          ]
        }
      ]
    },
    {
      "cell_type": "markdown",
      "source": [
        "18.  Implement a code to find the intersection of two given lists"
      ],
      "metadata": {
        "id": "D8MJDZn6Mwa2"
      }
    },
    {
      "cell_type": "code",
      "source": [
        "lst1 = [2,1,2,4,5]\n",
        "lst2 = [1,4,5,6,7,2,8]\n",
        "print(set(lst1) & set(lst2))"
      ],
      "metadata": {
        "colab": {
          "base_uri": "https://localhost:8080/"
        },
        "id": "o1xoNZauL18R",
        "outputId": "e538ec53-fee4-4dce-f45a-12f669dfbfac"
      },
      "execution_count": 62,
      "outputs": [
        {
          "output_type": "stream",
          "name": "stdout",
          "text": [
            "{1, 2, 4, 5}\n"
          ]
        }
      ]
    },
    {
      "cell_type": "markdown",
      "source": [
        "19. Create a code to find the union of two lists without duplicates"
      ],
      "metadata": {
        "id": "LI0YLPS-N_r7"
      }
    },
    {
      "cell_type": "code",
      "source": [
        "lst1 = [2,1,2,4,5]\n",
        "lst2 = [1,4,5,6,7,2,8]\n",
        "print(set(lst1) | set(lst2))"
      ],
      "metadata": {
        "colab": {
          "base_uri": "https://localhost:8080/"
        },
        "id": "xJJJgH4YNI3O",
        "outputId": "76776c2d-0c62-4609-aeee-15cf2d1e2dd1"
      },
      "execution_count": 63,
      "outputs": [
        {
          "output_type": "stream",
          "name": "stdout",
          "text": [
            "{1, 2, 4, 5, 6, 7, 8}\n"
          ]
        }
      ]
    },
    {
      "cell_type": "markdown",
      "source": [
        "20.  Write a code to shuffle a given list randomly without using any built-in shuffle functions"
      ],
      "metadata": {
        "id": "pa9KA9sIPSlg"
      }
    },
    {
      "cell_type": "markdown",
      "source": [
        "21. Write a code that takes two tuples as input and returns a new tuple containing elements that are\n",
        "common to both input tuples"
      ],
      "metadata": {
        "id": "XBMnR3eQP57Z"
      }
    },
    {
      "cell_type": "code",
      "source": [
        "tup1 = (1,2,3,4,5)\n",
        "tup2 = (4,5,6,7,8)\n",
        "print(set(tup1) & set(tup2))"
      ],
      "metadata": {
        "colab": {
          "base_uri": "https://localhost:8080/"
        },
        "id": "CykcMGMHOtMm",
        "outputId": "2fda4219-44c0-4b2c-d1e8-4654f1a81aaa"
      },
      "execution_count": 64,
      "outputs": [
        {
          "output_type": "stream",
          "name": "stdout",
          "text": [
            "{4, 5}\n"
          ]
        }
      ]
    },
    {
      "cell_type": "markdown",
      "source": [
        "22. Create a code that prompts the user to enter two sets of integers separated by commas. Then, print the\n",
        "intersection of these two sets"
      ],
      "metadata": {
        "id": "WdPmnII6QK5N"
      }
    },
    {
      "cell_type": "code",
      "source": [
        "set1 = set(map(int, input(\"Enter the set1: \").split(\",\")))\n",
        "set2 = set(map(int, input(\"Enter the set2: \").split(\",\")))\n",
        "print(set1)\n",
        "print(set2)\n",
        "print(set(set1) & set(set2))\n",
        "\n"
      ],
      "metadata": {
        "colab": {
          "base_uri": "https://localhost:8080/"
        },
        "id": "FEbi8Cn0QFNH",
        "outputId": "35155c49-be2a-402c-8217-83a1673602fc"
      },
      "execution_count": 71,
      "outputs": [
        {
          "output_type": "stream",
          "name": "stdout",
          "text": [
            "Enter the set1: 1,2,3,4,5\n",
            "Enter the set2: 3,4,6,7,8,9\n",
            "{1, 2, 3, 4, 5}\n",
            "{3, 4, 6, 7, 8, 9}\n",
            "{3, 4}\n"
          ]
        }
      ]
    },
    {
      "cell_type": "markdown",
      "source": [
        "23. Write a code to concatenate two tuples. The function should take two tuples as input and return a new\n",
        "tuple containing elements from both input tuples\n"
      ],
      "metadata": {
        "id": "puC3xf85R9KD"
      }
    },
    {
      "cell_type": "code",
      "source": [
        "def concatenate_tuples(tuple1, tuple2):\n",
        "\n",
        "    return tuple1 + tuple2\n",
        "\n",
        "\n",
        "tuple1 = (1, 2, 3)\n",
        "tuple2 = (4, 5, 6)\n",
        "result = concatenate_tuples(tuple1, tuple2)\n",
        "\n",
        "print(f\"Tuple 1: {tuple1}\")\n",
        "print(f\"Tuple 2: {tuple2}\")\n",
        "print(f\"Concatenated Tuple: {result}\")\n"
      ],
      "metadata": {
        "colab": {
          "base_uri": "https://localhost:8080/"
        },
        "id": "5phV3VCqQ_5U",
        "outputId": "8ab120c1-fc8f-4a8d-88b4-52aa24a98112"
      },
      "execution_count": 72,
      "outputs": [
        {
          "output_type": "stream",
          "name": "stdout",
          "text": [
            "Tuple 1: (1, 2, 3)\n",
            "Tuple 2: (4, 5, 6)\n",
            "Concatenated Tuple: (1, 2, 3, 4, 5, 6)\n"
          ]
        }
      ]
    },
    {
      "cell_type": "markdown",
      "source": [
        "24. Develop a code that prompts the user to input two sets of strings. Then, print the elements that are\n",
        "present in the first set but not in the second set\n"
      ],
      "metadata": {
        "id": "H0wHgcSGSwxS"
      }
    },
    {
      "cell_type": "code",
      "source": [
        "str1 = set(input(\"Enter the set1: \").split(\",\"))\n",
        "str2 = set(input(\"Enter the set2: \").split(\",\"))\n",
        "print(str1)\n",
        "print(str2)\n",
        "print(str1 - str2)"
      ],
      "metadata": {
        "colab": {
          "base_uri": "https://localhost:8080/"
        },
        "id": "OqhpUbw1Sukc",
        "outputId": "51f6b128-041c-440c-e58c-545abf2433cc"
      },
      "execution_count": 73,
      "outputs": [
        {
          "output_type": "stream",
          "name": "stdout",
          "text": [
            "Enter the set1: a,p,p,l,e\n",
            "Enter the set2: b,a,n,a,n,a\n",
            "{'e', 'p', 'a', 'l'}\n",
            "{'b', 'a', 'n'}\n",
            "{'e', 'p', 'l'}\n"
          ]
        }
      ]
    },
    {
      "cell_type": "markdown",
      "source": [
        "25. Create a code that takes a tuple and two integers as input. The function should return a new tuple\n",
        "containing elements from the original tuple within the specified range of indices"
      ],
      "metadata": {
        "id": "_O3dEDPvTL2a"
      }
    },
    {
      "cell_type": "code",
      "source": [
        "str1 = tuple(input(\"Enter the set1: \").split(\",\"))\n",
        "str2 = tuple(input(\"Enter the set2: \").split(\",\"))\n",
        "print(str1)\n",
        "print(type(str1))\n",
        "print(str2)\n",
        "print(str1+str2)"
      ],
      "metadata": {
        "colab": {
          "base_uri": "https://localhost:8080/"
        },
        "id": "u8IZz-3gTA0_",
        "outputId": "2cfe6135-f6da-4641-f909-459022a4e956"
      },
      "execution_count": 76,
      "outputs": [
        {
          "output_type": "stream",
          "name": "stdout",
          "text": [
            "Enter the set1: 1,8,7,6,6\n",
            "Enter the set2: 8,0,8,76,\n",
            "('1', '8', '7', '6', '6')\n",
            "<class 'tuple'>\n",
            "('8', '0', '8', '76', '')\n",
            "('1', '8', '7', '6', '6', '8', '0', '8', '76', '')\n"
          ]
        }
      ]
    },
    {
      "cell_type": "markdown",
      "source": [
        "26. Write a code that prompts the user to input two sets of characters. Then, print the union of these two sets"
      ],
      "metadata": {
        "id": "1oWBsiwfUMCc"
      }
    },
    {
      "cell_type": "code",
      "source": [
        "s=set(input(\"enter the set1 \").split(\",\"))\n",
        "s1=set(input(\"enter the set2 \").split(\",\"))\n",
        "print(s.union(s1))\n"
      ],
      "metadata": {
        "colab": {
          "base_uri": "https://localhost:8080/"
        },
        "id": "sJPbcSxwTtvA",
        "outputId": "11c87ee7-d17a-497b-cea4-3c1d454e1eb7"
      },
      "execution_count": 77,
      "outputs": [
        {
          "output_type": "stream",
          "name": "stdout",
          "text": [
            "enter the set1 1,7,9,9,8\n",
            "enter the set2 7,9,5,4\n",
            "{'5', '9', '4', '7', '1', '8'}\n"
          ]
        }
      ]
    },
    {
      "cell_type": "markdown",
      "source": [
        "27. Develop a code that takes a tuple of integers as input. The function should return the maximum and\n",
        "minimum values from the tuple using tuple unpacking"
      ],
      "metadata": {
        "id": "FrNNrZBtUpHO"
      }
    },
    {
      "cell_type": "code",
      "source": [
        "def find_max_min(input_tuple):\n",
        "    # Use the built-in max() and min() functions\n",
        "    max_value = max(input_tuple)\n",
        "    min_value = min(input_tuple)\n",
        "    # Return a tuple containing the max and min values\n",
        "    return max_value, min_value\n",
        "\n",
        "# Example usage\n",
        "input_tuple = (3, 1, 4, 1, 5, 9, 2, 6, 5)\n",
        "max_val, min_val = find_max_min(input_tuple)  # Tuple unpacking\n",
        "\n",
        "print(f\"Input Tuple: {input_tuple}\")\n",
        "print(f\"Maximum Value: {max_val}\")\n",
        "print(f\"Minimum Value: {min_val}\")"
      ],
      "metadata": {
        "colab": {
          "base_uri": "https://localhost:8080/"
        },
        "id": "ZSJ0WXRBUf33",
        "outputId": "ce9670e2-846b-47e5-bc0e-a5cc5b6839aa"
      },
      "execution_count": 78,
      "outputs": [
        {
          "output_type": "stream",
          "name": "stdout",
          "text": [
            "Input Tuple: (3, 1, 4, 1, 5, 9, 2, 6, 5)\n",
            "Maximum Value: 9\n",
            "Minimum Value: 1\n"
          ]
        }
      ]
    },
    {
      "cell_type": "code",
      "source": [],
      "metadata": {
        "id": "9AcYNQuiU65l"
      },
      "execution_count": null,
      "outputs": []
    }
  ]
}