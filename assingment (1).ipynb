{
 "cells": [
  {
   "cell_type": "markdown",
   "id": "42d6ac23-250b-452d-8184-96374666bd2f",
   "metadata": {},
   "source": [
    "# 1. Python's key features:-"
   ]
  },
  {
   "cell_type": "raw",
   "id": "13c9d60f-cc7b-4cf1-b431-4779ae932ebd",
   "metadata": {},
   "source": [
    "python's key features:-\n",
    "1. Easy to learning\n",
    "2. Alot of libraries\n",
    "3. Readability and Simplicity\n",
    "4. Free and Open source"
   ]
  },
  {
   "cell_type": "markdown",
   "id": "c8c6130b-1c28-4222-be21-fc72396d4abd",
   "metadata": {},
   "source": [
    "# 2. Predefined keywords "
   ]
  },
  {
   "cell_type": "code",
   "execution_count": null,
   "id": "566df1f2-c98b-44c6-a094-d4f8bf153408",
   "metadata": {},
   "outputs": [],
   "source": [
    "# Predefined keywords << predefined keywords are play a major role in executing with predefined syntax and structure. These keywords are reserved for their specific role/tasks.\n",
    "# 1. print()\n",
    "# 2. input()\n",
    "# 3. control flow Conditional statement\n",
    "# 4. Loops"
   ]
  },
  {
   "cell_type": "code",
   "execution_count": 1,
   "id": "a5d0bca1-6b3b-4440-9db7-57f6de306a26",
   "metadata": {},
   "outputs": [
    {
     "name": "stdout",
     "output_type": "stream",
     "text": [
      "hello\n"
     ]
    }
   ],
   "source": [
    "print(\"hello\") #print keyword use to print."
   ]
  },
  {
   "cell_type": "code",
   "execution_count": null,
   "id": "3ce7cb26-4dc8-4b14-badb-38d6d8ebe918",
   "metadata": {},
   "outputs": [],
   "source": [
    "name = input(\"Enter your name\")  # take input from user.\n",
    "print(name)"
   ]
  },
  {
   "cell_type": "code",
   "execution_count": 8,
   "id": "1d543494-70e4-4522-afcc-ee44e77d9120",
   "metadata": {},
   "outputs": [
    {
     "name": "stdout",
     "output_type": "stream",
     "text": [
      "a is equal to 5\n"
     ]
    }
   ],
   "source": [
    "#if-elif-else statement\n",
    "a = 5\n",
    "if (0<a<5):\n",
    "    print(\"a is less than 5\")\n",
    "elif (a==5):\n",
    "    print(\"a is equal to 5\")\n",
    "elif (a>5):\n",
    "    print(\"a is greater than 5\")\n",
    "else:\n",
    "    print(\"number is negative\")"
   ]
  },
  {
   "cell_type": "code",
   "execution_count": 13,
   "id": "b3b82d18-a4d9-487b-aa7f-3611e328956c",
   "metadata": {},
   "outputs": [
    {
     "name": "stdout",
     "output_type": "stream",
     "text": [
      "1\n",
      "2\n",
      "3\n",
      "4\n",
      "5\n",
      "6\n",
      "7\n",
      "8\n",
      "9\n",
      "10\n",
      "012345"
     ]
    }
   ],
   "source": [
    "# loop statement\n",
    "i = 1\n",
    "while i <= 10:\n",
    "    print(i)\n",
    "    i+=1\n",
    "    \n",
    "list= [0,1,2,3,4,5]\n",
    "for i in list:\n",
    "    print(i, end= \"\")"
   ]
  },
  {
   "cell_type": "markdown",
   "id": "fd112b98-6b34-4a4a-b7e1-47a928b45923",
   "metadata": {},
   "source": [
    "# 3. Immutable objects & Mutable objects\n"
   ]
  },
  {
   "cell_type": "raw",
   "id": "5c5c53d7-bd28-46a6-8697-313cb3ee962f",
   "metadata": {},
   "source": [
    "Immutable objects are cannot be modified after they created.\n",
    "eg- string"
   ]
  },
  {
   "cell_type": "code",
   "execution_count": null,
   "id": "e3e4ccaf-145d-4384-a8a7-52c4a1344175",
   "metadata": {},
   "outputs": [],
   "source": [
    "str = \"hello\"\n",
    "# you cannot change 'l' with another character.\n",
    "str[3] = \"p\" # gennerate a error"
   ]
  },
  {
   "cell_type": "markdown",
   "id": "ae7f9c87-5083-4829-a4d4-d53ec75efc51",
   "metadata": {},
   "source": [
    "# mutable objects "
   ]
  },
  {
   "cell_type": "raw",
   "id": "af9665ce-b45b-460d-8d71-e0be8710102f",
   "metadata": {},
   "source": [
    "mutable objects are change/modified after they created.\n",
    "eg- list "
   ]
  },
  {
   "cell_type": "code",
   "execution_count": 15,
   "id": "978bda26-56cb-4e4c-b95e-487ab10bfc20",
   "metadata": {},
   "outputs": [
    {
     "name": "stdout",
     "output_type": "stream",
     "text": [
      "['a', 1, 2, 'mango', 3, 4]\n"
     ]
    }
   ],
   "source": [
    "list = [\"a\",1,2,\"apple\",3,4]\n",
    "list[3] = \"mango\" # apple is modified to mango\n",
    "print(list)"
   ]
  },
  {
   "cell_type": "markdown",
   "id": "51dc934e-9451-4ebf-936f-ce9081cc2277",
   "metadata": {},
   "source": [
    " # 4. Python operators "
   ]
  },
  {
   "cell_type": "code",
   "execution_count": 1,
   "id": "b184bba1-eaf3-4611-9427-6d06d75048cc",
   "metadata": {},
   "outputs": [
    {
     "name": "stdout",
     "output_type": "stream",
     "text": [
      "12\n"
     ]
    }
   ],
   "source": [
    "# arithmetic operators\n",
    "# '+' addition of two values\n",
    "a = 5\n",
    "b = 7\n",
    "print(a+b)\n"
   ]
  },
  {
   "cell_type": "code",
   "execution_count": 2,
   "id": "70427a18-a426-4a98-97f7-91232cc4f898",
   "metadata": {},
   "outputs": [
    {
     "name": "stdout",
     "output_type": "stream",
     "text": [
      "2\n"
     ]
    }
   ],
   "source": [
    "# '-' subtraction of two values\n",
    "a = 5\n",
    "b = 7\n",
    "print(b-a)"
   ]
  },
  {
   "cell_type": "code",
   "execution_count": 3,
   "id": "31492442-7fcb-4e57-a9ff-ef7482c4bbdd",
   "metadata": {},
   "outputs": [
    {
     "name": "stdout",
     "output_type": "stream",
     "text": [
      "35\n"
     ]
    }
   ],
   "source": [
    "# '*' multiplication of two values\n",
    "a = 5\n",
    "b = 7\n",
    "print(a*b)"
   ]
  },
  {
   "cell_type": "code",
   "execution_count": 4,
   "id": "adab1c55-4bed-4659-8292-f47e45090c5f",
   "metadata": {},
   "outputs": [
    {
     "name": "stdout",
     "output_type": "stream",
     "text": [
      "7.0\n"
     ]
    }
   ],
   "source": [
    "# '/' sum of two values\n",
    "a = 49\n",
    "b = 7\n",
    "print(a/b)"
   ]
  },
  {
   "cell_type": "code",
   "execution_count": 5,
   "id": "f7e66e68-8073-4129-927b-87f006f1e0ef",
   "metadata": {},
   "outputs": [
    {
     "name": "stdout",
     "output_type": "stream",
     "text": [
      "7\n"
     ]
    }
   ],
   "source": [
    "# '//' floor division <<divide and rounds down to the nearest int of.\n",
    "a = 50\n",
    "b = 7\n",
    "print(a//b)"
   ]
  },
  {
   "cell_type": "code",
   "execution_count": 6,
   "id": "86bcffe1-9bc8-4754-8089-54fc41431320",
   "metadata": {},
   "outputs": [
    {
     "name": "stdout",
     "output_type": "stream",
     "text": [
      "3\n"
     ]
    }
   ],
   "source": [
    "# '%' modulus <<return the reminder\n",
    "a = 45\n",
    "b = 7\n",
    "print(a%b)"
   ]
  },
  {
   "cell_type": "raw",
   "id": "6f192759-4ac7-4eb9-9dc7-bcd4591f4c7f",
   "metadata": {},
   "source": [
    "Comparison operator << for comparing two values << return value as true and false"
   ]
  },
  {
   "cell_type": "code",
   "execution_count": 7,
   "id": "7b24c6f4-b0b5-4ae5-9e61-8da2eff05acd",
   "metadata": {},
   "outputs": [
    {
     "data": {
      "text/plain": [
       "True"
      ]
     },
     "execution_count": 7,
     "metadata": {},
     "output_type": "execute_result"
    }
   ],
   "source": [
    "# comparison operators\n",
    "# '==' compare two values\n",
    "a= 5\n",
    "b = a\n",
    "a==b"
   ]
  },
  {
   "cell_type": "code",
   "execution_count": 8,
   "id": "958bfc0c-1cd2-4e59-854f-ecc91af907d1",
   "metadata": {},
   "outputs": [
    {
     "data": {
      "text/plain": [
       "True"
      ]
     },
     "execution_count": 8,
     "metadata": {},
     "output_type": "execute_result"
    }
   ],
   "source": [
    "# '!=' not equal \n",
    "a= 5\n",
    "b = 4\n",
    "a!=b"
   ]
  },
  {
   "cell_type": "code",
   "execution_count": 9,
   "id": "b19dca91-68ce-4e3a-a957-23f009a620e6",
   "metadata": {},
   "outputs": [
    {
     "data": {
      "text/plain": [
       "False"
      ]
     },
     "execution_count": 9,
     "metadata": {},
     "output_type": "execute_result"
    }
   ],
   "source": [
    "# '>' greater than operator\n",
    "a= 5\n",
    "b = 7\n",
    "a > b"
   ]
  },
  {
   "cell_type": "code",
   "execution_count": 10,
   "id": "83f166c5-1406-4a8e-8fea-88dd2b163803",
   "metadata": {},
   "outputs": [
    {
     "data": {
      "text/plain": [
       "True"
      ]
     },
     "execution_count": 10,
     "metadata": {},
     "output_type": "execute_result"
    }
   ],
   "source": [
    "# '<' less than operator\n",
    "a= 5\n",
    "b = 7\n",
    "a < b"
   ]
  },
  {
   "cell_type": "code",
   "execution_count": 1,
   "id": "8284bb27-9295-45a7-9390-f99302988a5e",
   "metadata": {},
   "outputs": [
    {
     "data": {
      "text/plain": [
       "True"
      ]
     },
     "execution_count": 1,
     "metadata": {},
     "output_type": "execute_result"
    }
   ],
   "source": [
    "# '<=' less than or equal to operator\n",
    "a = 5\n",
    "b = 6\n",
    "a<=b"
   ]
  },
  {
   "cell_type": "code",
   "execution_count": 3,
   "id": "66ffe1a3-d8fb-40e1-abf9-d6ea8bb17032",
   "metadata": {},
   "outputs": [
    {
     "data": {
      "text/plain": [
       "True"
      ]
     },
     "execution_count": 3,
     "metadata": {},
     "output_type": "execute_result"
    }
   ],
   "source": [
    "# '>=' greater than or equal to operator \n",
    "a = 6\n",
    "b = 5\n",
    "a >= b"
   ]
  },
  {
   "cell_type": "raw",
   "id": "9970edf5-c828-4b3a-aee6-b360bd289976",
   "metadata": {},
   "source": [
    " Logic operators and, or, not << perform on True or False"
   ]
  },
  {
   "cell_type": "code",
   "execution_count": 4,
   "id": "d6ae9bb9-93b6-47de-92de-196b905b8bd1",
   "metadata": {},
   "outputs": [
    {
     "data": {
      "text/plain": [
       "False"
      ]
     },
     "execution_count": 4,
     "metadata": {},
     "output_type": "execute_result"
    }
   ],
   "source": [
    "# and operator\n",
    "True and False"
   ]
  },
  {
   "cell_type": "code",
   "execution_count": 5,
   "id": "d0961054-dfe9-471d-bd95-b987b515af5b",
   "metadata": {},
   "outputs": [
    {
     "data": {
      "text/plain": [
       "False"
      ]
     },
     "execution_count": 5,
     "metadata": {},
     "output_type": "execute_result"
    }
   ],
   "source": [
    "False and False"
   ]
  },
  {
   "cell_type": "code",
   "execution_count": 6,
   "id": "20f1a178-85ab-4c0d-be7f-d20727d374d9",
   "metadata": {},
   "outputs": [
    {
     "data": {
      "text/plain": [
       "True"
      ]
     },
     "execution_count": 6,
     "metadata": {},
     "output_type": "execute_result"
    }
   ],
   "source": [
    "True and True"
   ]
  },
  {
   "cell_type": "code",
   "execution_count": 7,
   "id": "bc89eba2-9e3c-427a-ae22-4b0d2bbdc586",
   "metadata": {},
   "outputs": [],
   "source": [
    "# or operator"
   ]
  },
  {
   "cell_type": "code",
   "execution_count": 8,
   "id": "0f9c19f3-8797-402a-8efb-8954f3016910",
   "metadata": {},
   "outputs": [
    {
     "data": {
      "text/plain": [
       "True"
      ]
     },
     "execution_count": 8,
     "metadata": {},
     "output_type": "execute_result"
    }
   ],
   "source": [
    "True or False"
   ]
  },
  {
   "cell_type": "code",
   "execution_count": 9,
   "id": "1ee050b7-e354-4560-b26d-6eac82d64582",
   "metadata": {},
   "outputs": [
    {
     "data": {
      "text/plain": [
       "False"
      ]
     },
     "execution_count": 9,
     "metadata": {},
     "output_type": "execute_result"
    }
   ],
   "source": [
    "False or False"
   ]
  },
  {
   "cell_type": "code",
   "execution_count": 10,
   "id": "98593ba2-48e1-412b-b361-9a5f1bd05e92",
   "metadata": {},
   "outputs": [
    {
     "data": {
      "text/plain": [
       "True"
      ]
     },
     "execution_count": 10,
     "metadata": {},
     "output_type": "execute_result"
    }
   ],
   "source": [
    "True or True"
   ]
  },
  {
   "cell_type": "code",
   "execution_count": 13,
   "id": "30e14f1b-e64d-4e46-a49d-ec3014511abb",
   "metadata": {},
   "outputs": [
    {
     "data": {
      "text/plain": [
       "True"
      ]
     },
     "execution_count": 13,
     "metadata": {},
     "output_type": "execute_result"
    }
   ],
   "source": [
    "# not operator\n",
    "\n",
    "not False "
   ]
  },
  {
   "cell_type": "code",
   "execution_count": 14,
   "id": "94fddb80-5b7a-48dc-8105-af3921397d36",
   "metadata": {},
   "outputs": [
    {
     "data": {
      "text/plain": [
       "False"
      ]
     },
     "execution_count": 14,
     "metadata": {},
     "output_type": "execute_result"
    }
   ],
   "source": [
    "not True"
   ]
  },
  {
   "cell_type": "raw",
   "id": "a2ecf782-dced-42f0-b767-48400e3aecad",
   "metadata": {},
   "source": [
    "Bitwise operator<< operation at bit level (0,1)<<  AND(&), OR(|), NOT(~), XOR(^), left shift(<<), right shift(>>).\n"
   ]
  },
  {
   "cell_type": "code",
   "execution_count": 15,
   "id": "f7d4bba8-28f9-4603-8ed1-240ae3d15d38",
   "metadata": {},
   "outputs": [
    {
     "data": {
      "text/plain": [
       "4"
      ]
     },
     "execution_count": 15,
     "metadata": {},
     "output_type": "execute_result"
    }
   ],
   "source": [
    "14 & 4"
   ]
  },
  {
   "cell_type": "code",
   "execution_count": 17,
   "id": "092a43c9-3409-44ac-a291-ee447ca2a101",
   "metadata": {},
   "outputs": [
    {
     "data": {
      "text/plain": [
       "15"
      ]
     },
     "execution_count": 17,
     "metadata": {},
     "output_type": "execute_result"
    }
   ],
   "source": [
    "12|7"
   ]
  },
  {
   "cell_type": "code",
   "execution_count": 18,
   "id": "0d9701e7-614f-428c-8c07-47d516d0d050",
   "metadata": {},
   "outputs": [
    {
     "data": {
      "text/plain": [
       "-6"
      ]
     },
     "execution_count": 18,
     "metadata": {},
     "output_type": "execute_result"
    }
   ],
   "source": [
    "~5"
   ]
  },
  {
   "cell_type": "code",
   "execution_count": 19,
   "id": "0b5f79a8-ecc9-42b5-b36d-3e46223c8d95",
   "metadata": {},
   "outputs": [
    {
     "data": {
      "text/plain": [
       "6"
      ]
     },
     "execution_count": 19,
     "metadata": {},
     "output_type": "execute_result"
    }
   ],
   "source": [
    "3 ^ 5"
   ]
  },
  {
   "cell_type": "code",
   "execution_count": 20,
   "id": "9aa650f7-cb7f-475a-80ef-ed71afd8cd36",
   "metadata": {},
   "outputs": [
    {
     "data": {
      "text/plain": [
       "3"
      ]
     },
     "execution_count": 20,
     "metadata": {},
     "output_type": "execute_result"
    }
   ],
   "source": [
    "12>>2"
   ]
  },
  {
   "cell_type": "code",
   "execution_count": 21,
   "id": "14030b13-fb75-462f-ae8a-277a60a3745f",
   "metadata": {},
   "outputs": [
    {
     "data": {
      "text/plain": [
       "12"
      ]
     },
     "execution_count": 21,
     "metadata": {},
     "output_type": "execute_result"
    }
   ],
   "source": [
    "3<<2"
   ]
  },
  {
   "cell_type": "raw",
   "id": "2b4c6314-fafd-4585-a292-8b0c16f471f4",
   "metadata": {},
   "source": [
    "Assignment operator << Assign(=), Add assign(+=), subtract assign(-=), multi Assign(*=), divide assign(/=)"
   ]
  },
  {
   "cell_type": "code",
   "execution_count": 26,
   "id": "a6540ea1-426d-488f-aa3b-58879b1d0f56",
   "metadata": {},
   "outputs": [
    {
     "data": {
      "text/plain": [
       "6"
      ]
     },
     "execution_count": 26,
     "metadata": {},
     "output_type": "execute_result"
    }
   ],
   "source": [
    "a = 5\n",
    "\n",
    "a +=1 #(a+1)=a\n",
    "a"
   ]
  },
  {
   "cell_type": "code",
   "execution_count": 25,
   "id": "5165e26b-e979-4920-8553-91228b29abbb",
   "metadata": {},
   "outputs": [
    {
     "data": {
      "text/plain": [
       "2"
      ]
     },
     "execution_count": 25,
     "metadata": {},
     "output_type": "execute_result"
    }
   ],
   "source": [
    "a-=2 # (a-2)=a\n",
    "a"
   ]
  },
  {
   "cell_type": "code",
   "execution_count": 27,
   "id": "04c14df8-a10c-4936-9854-65d2ce18a6e0",
   "metadata": {},
   "outputs": [
    {
     "data": {
      "text/plain": [
       "12"
      ]
     },
     "execution_count": 27,
     "metadata": {},
     "output_type": "execute_result"
    }
   ],
   "source": [
    "a*=2\n",
    "a"
   ]
  },
  {
   "cell_type": "code",
   "execution_count": 28,
   "id": "e667f4c4-119d-405a-9a1e-279c8cbe77a0",
   "metadata": {},
   "outputs": [
    {
     "data": {
      "text/plain": [
       "4.0"
      ]
     },
     "execution_count": 28,
     "metadata": {},
     "output_type": "execute_result"
    }
   ],
   "source": [
    "a/=3\n",
    "a"
   ]
  },
  {
   "cell_type": "raw",
   "id": "bf148ae2-cdb5-47fb-aa98-f93fe54e9372",
   "metadata": {},
   "source": [
    "Membership operator << in , not in"
   ]
  },
  {
   "cell_type": "code",
   "execution_count": 29,
   "id": "03cae6e7-4113-4408-af34-98f0e4f2cbdd",
   "metadata": {},
   "outputs": [
    {
     "data": {
      "text/plain": [
       "True"
      ]
     },
     "execution_count": 29,
     "metadata": {},
     "output_type": "execute_result"
    }
   ],
   "source": [
    "fruit = \"apple\"\n",
    "fruits = [\"apple\",\"banana\",\"lichi\"]\n",
    "\n",
    "\"le\" in fruit"
   ]
  },
  {
   "cell_type": "code",
   "execution_count": 30,
   "id": "a27d926f-9eae-443c-ac17-ef8976fdede2",
   "metadata": {},
   "outputs": [
    {
     "data": {
      "text/plain": [
       "True"
      ]
     },
     "execution_count": 30,
     "metadata": {},
     "output_type": "execute_result"
    }
   ],
   "source": [
    "\"banana\" in fruits"
   ]
  },
  {
   "cell_type": "code",
   "execution_count": 31,
   "id": "10619c84-a7cd-454d-a87c-20b4a30d97d2",
   "metadata": {},
   "outputs": [
    {
     "data": {
      "text/plain": [
       "False"
      ]
     },
     "execution_count": 31,
     "metadata": {},
     "output_type": "execute_result"
    }
   ],
   "source": [
    "\"mango\" in fruits"
   ]
  },
  {
   "cell_type": "code",
   "execution_count": 32,
   "id": "808d3755-0d8a-4a1f-97b0-b6d3c96487b1",
   "metadata": {},
   "outputs": [
    {
     "data": {
      "text/plain": [
       "True"
      ]
     },
     "execution_count": 32,
     "metadata": {},
     "output_type": "execute_result"
    }
   ],
   "source": [
    "\"mango\" not in fruits"
   ]
  },
  {
   "cell_type": "raw",
   "id": "2f7555c5-d0c3-4408-83e3-b0111fa2460e",
   "metadata": {},
   "source": [
    "identity operators << compare the location of two objects/ variables << is , is not"
   ]
  },
  {
   "cell_type": "code",
   "execution_count": 33,
   "id": "74a2f947-448d-4090-8644-7a69116c8cba",
   "metadata": {},
   "outputs": [
    {
     "data": {
      "text/plain": [
       "False"
      ]
     },
     "execution_count": 33,
     "metadata": {},
     "output_type": "execute_result"
    }
   ],
   "source": [
    "a = 5\n",
    "b= 7\n",
    "a is b"
   ]
  },
  {
   "cell_type": "code",
   "execution_count": 34,
   "id": "8a131eff-0bb5-49ce-9f09-4b4865c0cbd8",
   "metadata": {},
   "outputs": [
    {
     "data": {
      "text/plain": [
       "True"
      ]
     },
     "execution_count": 34,
     "metadata": {},
     "output_type": "execute_result"
    }
   ],
   "source": [
    "a = 6\n",
    "b = a\n",
    "a is b"
   ]
  },
  {
   "cell_type": "code",
   "execution_count": 35,
   "id": "ecb6c22d-c484-4cf2-9d7f-aab140021e68",
   "metadata": {},
   "outputs": [
    {
     "data": {
      "text/plain": [
       "False"
      ]
     },
     "execution_count": 35,
     "metadata": {},
     "output_type": "execute_result"
    }
   ],
   "source": [
    "a is not b"
   ]
  },
  {
   "cell_type": "markdown",
   "id": "8a86a805-d437-4af4-8f96-4a26f1d7f51c",
   "metadata": {},
   "source": [
    "# 5. Type casting "
   ]
  },
  {
   "cell_type": "raw",
   "id": "342b457e-16a8-450e-8cff-32b7db654173",
   "metadata": {},
   "source": [
    "Type casting is the process of converting one data type to another data type. with the help of inbuilt python keywords."
   ]
  },
  {
   "cell_type": "code",
   "execution_count": 3,
   "id": "eff57b89-0b51-4d10-b5bf-ef59f3a72df9",
   "metadata": {},
   "outputs": [
    {
     "name": "stdout",
     "output_type": "stream",
     "text": [
      "5.0\n",
      "<class 'float'>\n",
      "12\n",
      "<class 'int'>\n"
     ]
    }
   ],
   "source": [
    "# converting an integer to float\n",
    "int_val = 5\n",
    "float_val = float(int_val)\n",
    "print(float_val)\n",
    "print(type(float_val))\n",
    "\n",
    "# converting float to integer \n",
    "float_val = 12.5\n",
    "int_val = int(float_val)\n",
    "print(int_val)\n",
    "print(type(int_val))"
   ]
  },
  {
   "cell_type": "code",
   "execution_count": 4,
   "id": "338cacb2-1288-4579-98fb-f22ee70a2559",
   "metadata": {},
   "outputs": [
    {
     "name": "stdout",
     "output_type": "stream",
     "text": [
      "34\n",
      "<class 'str'>\n",
      "55\n",
      "<class 'int'>\n"
     ]
    }
   ],
   "source": [
    "# converting an integer to string\n",
    "int_val = 34\n",
    "string_val = str(int_val)\n",
    "print(string_val)\n",
    "print(type(string_val))\n",
    "\n",
    "# converting string to integer \n",
    "str_val = \"55\"\n",
    "int_val = int(str_val)\n",
    "print(int_val)\n",
    "print(type(int_val))"
   ]
  },
  {
   "cell_type": "code",
   "execution_count": 1,
   "id": "280208ad-0809-43b8-8466-cb3b83035cad",
   "metadata": {},
   "outputs": [
    {
     "name": "stdout",
     "output_type": "stream",
     "text": [
      "22.5\n",
      "<class 'str'>\n",
      "78.0\n",
      "<class 'float'>\n"
     ]
    }
   ],
   "source": [
    "# converting a float to string\n",
    "float_val = 22.5\n",
    "string_val = str(float_val)\n",
    "print(string_val)\n",
    "print(type(string_val))\n",
    "\n",
    "# converting string to float \n",
    "str_val = \"78\"\n",
    "float_val = float(str_val)\n",
    "print(float_val)\n",
    "print(type(float_val))"
   ]
  },
  {
   "cell_type": "code",
   "execution_count": 2,
   "id": "b91169cb-2f78-46c2-b841-21f0f343f06b",
   "metadata": {},
   "outputs": [
    {
     "name": "stdout",
     "output_type": "stream",
     "text": [
      "True\n",
      "<class 'bool'>\n"
     ]
    }
   ],
   "source": [
    "# converting int to bool\n",
    "int = 5\n",
    "bool_val = bool(int)\n",
    "print(bool_val)\n",
    "print(type(bool_val))"
   ]
  },
  {
   "cell_type": "markdown",
   "id": "331becbc-d701-403f-a2e3-5bef3a52f90f",
   "metadata": {},
   "source": [
    "# 6. Conditional statements "
   ]
  },
  {
   "cell_type": "raw",
   "id": "759faacf-fde7-4f5d-9a29-fb5ec028b20b",
   "metadata": {},
   "source": [
    "Conditional statements are use to make desicions in code based on whether certain condition are True or False\n",
    "if, elif, else statements."
   ]
  },
  {
   "cell_type": "code",
   "execution_count": 4,
   "id": "44a18f5b-1c85-45d8-9e53-f263695c0872",
   "metadata": {},
   "outputs": [
    {
     "name": "stdout",
     "output_type": "stream",
     "text": [
      "i is equal to 10\n"
     ]
    }
   ],
   "source": [
    "# if condition execute when the contidion is true\n",
    "i = 10\n",
    "if (i == 10):\n",
    "    print(\"i is equal to 10\")"
   ]
  },
  {
   "cell_type": "code",
   "execution_count": 5,
   "id": "7ddf82f9-71a8-44b6-93a7-db88d0934587",
   "metadata": {},
   "outputs": [
    {
     "name": "stdout",
     "output_type": "stream",
     "text": [
      "i is equal to 7\n"
     ]
    }
   ],
   "source": [
    "# if- else statement \n",
    "i = 7\n",
    "if (i == 7):\n",
    "    print(\"i is equal to 7\")\n",
    "else:\n",
    "    print(\"is is not equal to 7\")"
   ]
  },
  {
   "cell_type": "code",
   "execution_count": 7,
   "id": "589a00b0-f6d3-4bf0-8faa-eb4d7cb9e398",
   "metadata": {},
   "outputs": [
    {
     "name": "stdout",
     "output_type": "stream",
     "text": [
      "less than 10\n"
     ]
    }
   ],
   "source": [
    "# if-elif-else >> use to check multiple condition\n",
    "i = 5\n",
    "if (i >10):\n",
    "    print(\"grater than 10\")\n",
    "elif(i <10):\n",
    "    print(\"less than 10\")\n",
    "else: \n",
    "    print(\"equal to 10\")"
   ]
  },
  {
   "cell_type": "markdown",
   "id": "c01b0471-aac7-4b4f-b7c9-e34aba188d3a",
   "metadata": {},
   "source": [
    "# 7. Loops in python "
   ]
  },
  {
   "cell_type": "code",
   "execution_count": null,
   "id": "30946a72-a96d-43c1-906e-684ec7866f45",
   "metadata": {},
   "outputs": [],
   "source": [
    "#loops are used to repeatedly execute a block of code until a certain condition is True.\n",
    "\n",
    "#while loop >>repeatetly execute a block of code until a condition is true\n",
    "#for loop >>iterate over a sequence of a elements"
   ]
  },
  {
   "cell_type": "code",
   "execution_count": 6,
   "id": "aa038cd8-e711-45c9-9b53-0fdbbfb89a64",
   "metadata": {},
   "outputs": [
    {
     "name": "stdout",
     "output_type": "stream",
     "text": [
      "Sum of 10 whole numers are :  55\n"
     ]
    }
   ],
   "source": [
    "#print sum of 10 whole numbers with while loop \n",
    "\n",
    "i = 0\n",
    "sum = 0\n",
    "while i <10:\n",
    "    sum = sum +i\n",
    "    sum+=1\n",
    "    i+=1\n",
    "print(\"Sum of 10 whole numers are : \", sum)"
   ]
  },
  {
   "cell_type": "code",
   "execution_count": 8,
   "id": "a1843ac3-bbf4-46b5-a6bb-d33527b877be",
   "metadata": {},
   "outputs": [
    {
     "name": "stdout",
     "output_type": "stream",
     "text": [
      "apple\n",
      "banana\n",
      "lichi\n",
      "water melon\n",
      "papaya\n"
     ]
    }
   ],
   "source": [
    "#print sequence of list using for loop\n",
    "list1 = [\"apple\",\"banana\",\"lichi\",\"water melon\",\"papaya\"]\n",
    "\n",
    "for i in list1:\n",
    "    print(i)\n",
    "    \n",
    "    "
   ]
  },
  {
   "cell_type": "code",
   "execution_count": 3,
   "id": "ff067aa1-28a0-4024-ba6a-53a768b57977",
   "metadata": {},
   "outputs": [
    {
     "name": "stdout",
     "output_type": "stream",
     "text": [
      "45\n"
     ]
    }
   ],
   "source": []
  },
  {
   "cell_type": "code",
   "execution_count": null,
   "id": "f0c02eeb-fd3f-4592-a7b3-2d2ff3036fb7",
   "metadata": {},
   "outputs": [],
   "source": []
  }
 ],
 "metadata": {
  "kernelspec": {
   "display_name": "Python 3 (ipykernel)",
   "language": "python",
   "name": "python3"
  },
  "language_info": {
   "codemirror_mode": {
    "name": "ipython",
    "version": 3
   },
   "file_extension": ".py",
   "mimetype": "text/x-python",
   "name": "python",
   "nbconvert_exporter": "python",
   "pygments_lexer": "ipython3",
   "version": "3.10.8"
  }
 },
 "nbformat": 4,
 "nbformat_minor": 5
}
