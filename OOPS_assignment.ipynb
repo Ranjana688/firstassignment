{
  "nbformat": 4,
  "nbformat_minor": 0,
  "metadata": {
    "colab": {
      "provenance": [],
      "authorship_tag": "ABX9TyOUuy5X98pjyuZSaZ2aARus",
      "include_colab_link": true
    },
    "kernelspec": {
      "name": "python3",
      "display_name": "Python 3"
    },
    "language_info": {
      "name": "python"
    }
  },
  "cells": [
    {
      "cell_type": "markdown",
      "metadata": {
        "id": "view-in-github",
        "colab_type": "text"
      },
      "source": [
        "<a href=\"https://colab.research.google.com/github/Ranjana688/firstassignment/blob/main/OOPS_assignment.ipynb\" target=\"_parent\"><img src=\"https://colab.research.google.com/assets/colab-badge.svg\" alt=\"Open In Colab\"/></a>"
      ]
    },
    {
      "cell_type": "markdown",
      "source": [
        "1. What are the five key concepts of Object-Oriented Programming (OOP)\n"
      ],
      "metadata": {
        "id": "yfmHGX7rMrry"
      }
    },
    {
      "cell_type": "markdown",
      "source": [
        "Python key concepts:-\n",
        "1. Inheritance:- Inheritance allows a new class (child or subclass) to inherit properties and behaviors from an existing class (parent or superclass).\n",
        "2. Polymorphism:- poly means many and morphism means form/state.It refers to an object taking sevral form depending on the method/ data.\n",
        "3. Encapsulation:- it means hiding something and bunding of data and method of a data, it allow public,private or protected acceses.\n",
        "4. Abstraction:- abstraction is concept of hiding complex implimentation. abstract class can not be instantiated.\n",
        "5. Association, Aggregation, and Composition"
      ],
      "metadata": {
        "id": "IIcTCKVRNQHT"
      }
    },
    {
      "cell_type": "markdown",
      "source": [
        "2. Write a Python class for a `Car` with attributes for `make`, `model`, and `year`. Include a method to display\n",
        "the car's information.\n"
      ],
      "metadata": {
        "id": "ckcOIFAGPV7w"
      }
    },
    {
      "cell_type": "code",
      "source": [
        "class Car:\n",
        "  def __init__(self,make,model,year):\n",
        "    self.make=make\n",
        "    self.model=model\n",
        "    self.year=year\n",
        "  def info(self):\n",
        "    print(f\"This car make by :{self.make},model of car :{self.model},year of manufacturing :{self.year}\")"
      ],
      "metadata": {
        "id": "36GfRPo9MxBb"
      },
      "execution_count": 5,
      "outputs": []
    },
    {
      "cell_type": "code",
      "source": [
        "car1 = Car('Toyota', 'Camry', 2022)\n",
        "car2 = Car('Honda', 'Civic', 2021)"
      ],
      "metadata": {
        "id": "7zDrKWIrPyFT"
      },
      "execution_count": 7,
      "outputs": []
    },
    {
      "cell_type": "code",
      "source": [
        "car1.info()"
      ],
      "metadata": {
        "colab": {
          "base_uri": "https://localhost:8080/"
        },
        "id": "cJj6EDBbP6pr",
        "outputId": "8696e15e-4cf8-43bf-f690-79cb082c6ce7"
      },
      "execution_count": 11,
      "outputs": [
        {
          "output_type": "stream",
          "name": "stdout",
          "text": [
            "This car make by :Toyota,model of car :Camry,year of manufacturing :2022\n"
          ]
        }
      ]
    },
    {
      "cell_type": "code",
      "source": [
        "car2.info()"
      ],
      "metadata": {
        "colab": {
          "base_uri": "https://localhost:8080/"
        },
        "id": "ajukKlziP80K",
        "outputId": "4bcb1fe6-c189-4065-9e56-04d3aef4cd37"
      },
      "execution_count": 9,
      "outputs": [
        {
          "output_type": "stream",
          "name": "stdout",
          "text": [
            "This car make by :Honda,model of car :Civic,year of manufacturing :2021\n"
          ]
        }
      ]
    },
    {
      "cell_type": "markdown",
      "source": [
        "3. Explain the difference between instance methods and class methods. Provide an example of each"
      ],
      "metadata": {
        "id": "bdceMne1QVpW"
      }
    },
    {
      "cell_type": "markdown",
      "source": [
        "Instance method :- modify and access instance level attributes. it use self as a first paramenter.\n",
        "\n",
        "\n",
        "\n",
        "Class method:- modify class level attributes. It use cls as a first Parameter"
      ],
      "metadata": {
        "id": "TRFdMQ9xRp2Y"
      }
    },
    {
      "cell_type": "code",
      "source": [
        "class Person:\n",
        "  location = \"Delhi\"\n",
        "  def __init__(self,name,age):\n",
        "    self.name = name\n",
        "    self.age = age\n",
        "\n",
        "# instance method\n",
        "  def info(self):\n",
        "    print(f\"name of the person is {self.name} and age is {self.age}\")\n",
        "\n",
        "# classmethod\n",
        "  @classmethod\n",
        "  def change_loc(cls,new_loc):\n",
        "    cls.location = new_loc"
      ],
      "metadata": {
        "id": "qKf7_tv4QUCA"
      },
      "execution_count": 12,
      "outputs": []
    },
    {
      "cell_type": "code",
      "source": [
        "p1 = Person(\"Amit\",26)\n",
        "p2 = Person(\"Rohit\",25)"
      ],
      "metadata": {
        "id": "OSiZi4sZRljM"
      },
      "execution_count": 13,
      "outputs": []
    },
    {
      "cell_type": "code",
      "source": [
        "p1.info()\n",
        "p2.info()"
      ],
      "metadata": {
        "colab": {
          "base_uri": "https://localhost:8080/"
        },
        "id": "Dca4QqBFTFHk",
        "outputId": "7dc25f84-19ab-472c-d77a-8ca575c8c0b2"
      },
      "execution_count": 16,
      "outputs": [
        {
          "output_type": "stream",
          "name": "stdout",
          "text": [
            "name of the person is Amit and age is 26\n",
            "name of the person is Rohit and age is 25\n"
          ]
        }
      ]
    },
    {
      "cell_type": "code",
      "source": [
        "print(\"location before changing \",p1.location)\n",
        "Person.change_loc(\"Mumbai\")\n",
        "print(\"location after changing \",p1.location)"
      ],
      "metadata": {
        "colab": {
          "base_uri": "https://localhost:8080/"
        },
        "id": "ikmO3anLTIi7",
        "outputId": "6204c14c-2228-4956-9457-623dfaf5a3bb"
      },
      "execution_count": 17,
      "outputs": [
        {
          "output_type": "stream",
          "name": "stdout",
          "text": [
            "location before changing  Delhi\n",
            "location after changing  Mumbai\n"
          ]
        }
      ]
    },
    {
      "cell_type": "markdown",
      "source": [
        "4. How does Python implement method overloading? Give an example"
      ],
      "metadata": {
        "id": "ifWBHOdETng6"
      }
    },
    {
      "cell_type": "markdown",
      "source": [
        "Python does not support method overloading in the traditional sense. Instead, Python uses default arguments, variable-length arguments, or conditional logic within a method to simulate method overloading."
      ],
      "metadata": {
        "id": "ydkjPA-yUJIN"
      }
    },
    {
      "cell_type": "code",
      "source": [
        "class Calculator:\n",
        "    def add(self, *args):\n",
        "        if len(args) == 2:\n",
        "            return args[0] + args[1]\n",
        "        elif len(args) == 3:\n",
        "            return args[0] + args[1] + args[2]\n",
        "        else:\n",
        "            return \"Provide 2 or 3 arguments\"\n",
        "\n",
        "\n",
        "calc = Calculator()\n",
        "print(calc.add(5, 10))\n",
        "print(calc.add(5, 10, 15))\n",
        "print(calc.add(5))"
      ],
      "metadata": {
        "colab": {
          "base_uri": "https://localhost:8080/"
        },
        "id": "A75SoX0QTlWW",
        "outputId": "7048cf27-b509-4b27-f825-63427a55c485"
      },
      "execution_count": 18,
      "outputs": [
        {
          "output_type": "stream",
          "name": "stdout",
          "text": [
            "15\n",
            "30\n",
            "Provide 2 or 3 arguments\n"
          ]
        }
      ]
    },
    {
      "cell_type": "markdown",
      "source": [
        "5. What are the three types of access modifiers in Python? How are they denoted?"
      ],
      "metadata": {
        "id": "bvFNzHzVUtJb"
      }
    },
    {
      "cell_type": "markdown",
      "source": [
        "Three types of access modifiers:- Public, Protected, Private.\n",
        "\n",
        "\n",
        "Public:- accessing from anywhere. from outside/inside of the class\n",
        "\n",
        "\n",
        "Private:- the data and method is only accessible within its class, use __ to make private like self.__name = name, so name variable is private.\n",
        "\n",
        "Protected:- can be accessed within the class and its subclass. use _ to make protected like self._class = class"
      ],
      "metadata": {
        "id": "1zi7DjXKU0DA"
      }
    },
    {
      "cell_type": "markdown",
      "source": [
        "6.  Describe the five types of inheritance in Python. Provide a simple example of multiple inheritance."
      ],
      "metadata": {
        "id": "7YbN-XqnWmJQ"
      }
    },
    {
      "cell_type": "markdown",
      "source": [
        "Five types of inhertance:-\n",
        "1. single inheritance:- when a derived class only have one parent class.\n",
        "\n",
        "2. multi-level inheritance:- when a parent class of a child class is already inherit with another parent class.\n",
        "\n",
        "3. multiple inhertance:- when a child class have 2 parent classes\n",
        "\n",
        "4. hierarchical inheritance:- when a parent class have more than two child class.\n",
        "\n",
        "5. hybrid inhertance:- parent class have 2 child class and that 2 child class inherit with another child class."
      ],
      "metadata": {
        "id": "5POgVoGBWth6"
      }
    },
    {
      "cell_type": "code",
      "source": [
        "#multiple inheritance\n",
        "\n",
        "class Parent1:\n",
        "  def info(self):\n",
        "    print(\"this is method of parent1 \")\n",
        "\n",
        "class Parent2:\n",
        "  def info2(self):\n",
        "    print(\"this is method of parent2 \")\n",
        "\n",
        "class Child(Parent1,Parent2):\n",
        "  def info3(self):\n",
        "    print(\"this is method of child \")\n",
        "\n",
        "obj = Child()\n",
        "obj.info()\n",
        "obj.info2()\n",
        "obj.info3()"
      ],
      "metadata": {
        "colab": {
          "base_uri": "https://localhost:8080/"
        },
        "id": "wb4UoF8HWluj",
        "outputId": "a1e30d2c-f3dd-4213-e977-ba297e878862"
      },
      "execution_count": 20,
      "outputs": [
        {
          "output_type": "stream",
          "name": "stdout",
          "text": [
            "this is method of parent1 \n",
            "this is method of parent2 \n",
            "this is method of child \n"
          ]
        }
      ]
    },
    {
      "cell_type": "markdown",
      "source": [
        "7. What is the Method Resolution Order (MRO) in Python? How can you retrieve it programmatically?"
      ],
      "metadata": {
        "id": "6uvCiDNhZRKq"
      }
    },
    {
      "cell_type": "markdown",
      "source": [
        "The Method Resolution Order (MRO) in Python is the order in which classes are searched for a method or attribute when it is invoked on an object. It is crucial in the context of inheritance, especially for classes with multiple inheritance, to determine which class's method or attribute should be used"
      ],
      "metadata": {
        "id": "DkBx-CjxZjHV"
      }
    },
    {
      "cell_type": "code",
      "source": [
        "class A:\n",
        "    def greet(self):\n",
        "        print(\"Hello from A\")\n",
        "\n",
        "class B(A):\n",
        "    def greet(self):\n",
        "        print(\"Hello from B\")\n",
        "\n",
        "class C(A):\n",
        "    def greet(self):\n",
        "        print(\"Hello from C\")\n",
        "\n",
        "class D(B, C):\n",
        "    pass\n",
        "\n",
        "obj = D()\n",
        "obj.greet()  # Output: Hello from B (based on MRO)\n",
        "\n",
        "\n",
        "print(D.mro())\n"
      ],
      "metadata": {
        "colab": {
          "base_uri": "https://localhost:8080/"
        },
        "id": "NbdLx1UdUpzW",
        "outputId": "1724ff91-ff90-45d6-fb1f-f96f9435cc69"
      },
      "execution_count": 21,
      "outputs": [
        {
          "output_type": "stream",
          "name": "stdout",
          "text": [
            "Hello from B\n",
            "[<class '__main__.D'>, <class '__main__.B'>, <class '__main__.C'>, <class '__main__.A'>, <class 'object'>]\n"
          ]
        }
      ]
    },
    {
      "cell_type": "markdown",
      "source": [
        "8.  Create an abstract base class `Shape` with an abstract method `area()`. Then create two subclasses\n",
        "`Circle` and `Rectangle` that implement the `area()` method"
      ],
      "metadata": {
        "id": "-m_RWLMlaDD5"
      }
    },
    {
      "cell_type": "code",
      "source": [
        "import abc\n",
        "class Shape:\n",
        "  @abc.abstractmethod\n",
        "  def calculate_area(self):\n",
        "    pass\n",
        "class Circle(Shape):\n",
        "  def calculate_area(self):\n",
        "    print(\"Area of Circle is pi r^2\")\n",
        "class Rectangle(Shape):\n",
        "  def calculate_area(self):\n",
        "    print(\"Area of Rectangle is length * breadth\")\n",
        ""
      ],
      "metadata": {
        "id": "AMWrScxtZ_Bj"
      },
      "execution_count": 27,
      "outputs": []
    },
    {
      "cell_type": "code",
      "source": [
        "rec = Rectangle()\n",
        "rec.calculate_area()"
      ],
      "metadata": {
        "colab": {
          "base_uri": "https://localhost:8080/"
        },
        "id": "2tT0tKi9bTXK",
        "outputId": "61585fc6-188e-40f7-b605-6457bed21cd1"
      },
      "execution_count": 28,
      "outputs": [
        {
          "output_type": "stream",
          "name": "stdout",
          "text": [
            "Area of Rectangle is length * breadth\n"
          ]
        }
      ]
    },
    {
      "cell_type": "code",
      "source": [
        "cir = Circle()\n",
        "cir.calculate_area()"
      ],
      "metadata": {
        "colab": {
          "base_uri": "https://localhost:8080/"
        },
        "id": "m6lRAmIIb7DR",
        "outputId": "22fd1a63-0341-4d88-f40f-fa0d33cc9a05"
      },
      "execution_count": 29,
      "outputs": [
        {
          "output_type": "stream",
          "name": "stdout",
          "text": [
            "Area of Circle is pi r^2\n"
          ]
        }
      ]
    },
    {
      "cell_type": "markdown",
      "source": [
        "9. Demonstrate polymorphism by creating a function that can work with different shape objects to calculate\n",
        "and print their areas\n"
      ],
      "metadata": {
        "id": "-1D7A-_kcCQN"
      }
    },
    {
      "cell_type": "code",
      "source": [
        "class Shape:\n",
        "    def area(self):\n",
        "        raise NotImplementedError(\"Subclasses must implement the area method\")\n",
        "\n",
        "class Circle(Shape):\n",
        "    def __init__(self, radius):\n",
        "        self.radius = radius\n",
        "\n",
        "    def area(self):\n",
        "        return 3.14159 * self.radius ** 2\n",
        "\n",
        "class Rectangle(Shape):\n",
        "    def __init__(self, width, height):\n",
        "        self.width = width\n",
        "        self.height = height\n",
        "\n",
        "    def area(self):\n",
        "        return self.width * self.height\n",
        "\n",
        "class Triangle(Shape):\n",
        "    def __init__(self, base, height):\n",
        "        self.base = base\n",
        "        self.height = height\n",
        "\n",
        "    def area(self):\n",
        "        return 0.5 * self.base * self.height\n",
        "\n",
        "# Function to calculate and print the area of any shape\n",
        "def print_area(shape):\n",
        "    print(f\"The area of the {shape.__class__.__name__} is: {shape.area()}\")\n",
        "\n",
        "# Create different shape objects\n",
        "circle = Circle(radius=5)\n",
        "rectangle = Rectangle(width=4, height=6)\n",
        "triangle = Triangle(base=3, height=7)\n",
        "\n",
        "# Demonstrate polymorphism\n",
        "print_area(circle)      # Output: The area of the Circle is: 78.53975\n",
        "print_area(rectangle)   # Output: The area of the Rectangle is: 24\n",
        "print_area(triangle)    # Output: The area of the Triangle is: 10.5\n"
      ],
      "metadata": {
        "colab": {
          "base_uri": "https://localhost:8080/"
        },
        "id": "9F_rnfH5cAlm",
        "outputId": "f5f21ced-d7ce-4ca3-a5fd-3d3af7733792"
      },
      "execution_count": 31,
      "outputs": [
        {
          "output_type": "stream",
          "name": "stdout",
          "text": [
            "The area of the Circle is: 78.53975\n",
            "The area of the Rectangle is: 24\n",
            "The area of the Triangle is: 10.5\n"
          ]
        }
      ]
    },
    {
      "cell_type": "markdown",
      "source": [
        "10.  Implement encapsulation in a `BankAccount` class with private attributes for `balance` and\n",
        "`account_number`. Include methods for deposit, withdrawal, and balance inquiry."
      ],
      "metadata": {
        "id": "yJMmeyWddhb7"
      }
    },
    {
      "cell_type": "code",
      "source": [
        "class BankAccount:\n",
        "  def __init__(self,balance,account_no):\n",
        "    self.__balance = balance\n",
        "    self.__account_no= account_no\n",
        "  def depossite(self,amount):\n",
        "    self.__balance = self.__balance + amount\n",
        "  def withdraw(self,amount):\n",
        "    if self.__balance >= amount:\n",
        "      self.__balance = self.__balance - amount\n",
        "      return True\n",
        "    else:\n",
        "      return False\n",
        "  def get_balance(self):\n",
        "    return self.__balance"
      ],
      "metadata": {
        "id": "1sJEfW4zeZ2E"
      },
      "execution_count": 33,
      "outputs": []
    },
    {
      "cell_type": "code",
      "source": [
        "person1 = BankAccount(10000,200986156)\n",
        "person1.get_balance()\n",
        "person1.depossite(5000)\n"
      ],
      "metadata": {
        "id": "wzd2TB06efS5"
      },
      "execution_count": 37,
      "outputs": []
    },
    {
      "cell_type": "code",
      "source": [
        "person1.get_balance()"
      ],
      "metadata": {
        "colab": {
          "base_uri": "https://localhost:8080/"
        },
        "id": "v0nUsfJHemJp",
        "outputId": "a4a571f0-f7de-428f-f9f4-1c9d9f4518df"
      },
      "execution_count": 38,
      "outputs": [
        {
          "output_type": "execute_result",
          "data": {
            "text/plain": [
              "15000"
            ]
          },
          "metadata": {},
          "execution_count": 38
        }
      ]
    },
    {
      "cell_type": "markdown",
      "source": [
        "11. Write a class that overrides the `__str__` and `__add__` magic methods. What will these methods allow\n",
        "you to do?"
      ],
      "metadata": {
        "id": "15iATxAre_Df"
      }
    },
    {
      "cell_type": "code",
      "source": [
        "class student:\n",
        "  def __init__(self,name,age):\n",
        "    self.name = name\n",
        "    self.age = age\n",
        "  def __str__(self):\n",
        "    return f\"name of the student is {self.name} and age is {self.age}\""
      ],
      "metadata": {
        "id": "-IuyDuu-e8yM"
      },
      "execution_count": 39,
      "outputs": []
    },
    {
      "cell_type": "code",
      "source": [
        "st = student(\"amit\",45)"
      ],
      "metadata": {
        "id": "Bbsqq4rSfbad"
      },
      "execution_count": 40,
      "outputs": []
    },
    {
      "cell_type": "code",
      "source": [
        "print(st)"
      ],
      "metadata": {
        "colab": {
          "base_uri": "https://localhost:8080/"
        },
        "id": "Jjc_NgJRfhlP",
        "outputId": "f246863a-3bd8-49fb-bd15-cf5947473207"
      },
      "execution_count": 42,
      "outputs": [
        {
          "output_type": "stream",
          "name": "stdout",
          "text": [
            "name of the student is amit and age is 45\n"
          ]
        }
      ]
    },
    {
      "cell_type": "markdown",
      "source": [
        "12.  Create a decorator that measures and prints the execution time of a function\n",
        "\n",
        "\n"
      ],
      "metadata": {
        "id": "2VvDfQcbfyTy"
      }
    },
    {
      "cell_type": "code",
      "source": [
        "import time\n",
        "def Time_decorator(func):\n",
        "  def timer():\n",
        "    start = time.time()\n",
        "    func()\n",
        "    end = time.time()\n",
        "    print(\"The time for executing the code\", end-start)\n",
        "  return timer"
      ],
      "metadata": {
        "id": "wQLnMohdflTf"
      },
      "execution_count": 43,
      "outputs": []
    },
    {
      "cell_type": "code",
      "source": [
        "@Time_decorator\n",
        "def func_test():\n",
        "  print(110089987*100000000)\n",
        "\n",
        "func_test()"
      ],
      "metadata": {
        "colab": {
          "base_uri": "https://localhost:8080/"
        },
        "id": "YBIBGcA-gkFl",
        "outputId": "572b792f-7410-45a4-87c8-664daadaa85f"
      },
      "execution_count": 44,
      "outputs": [
        {
          "output_type": "stream",
          "name": "stdout",
          "text": [
            "11008998700000000\n",
            "The time for executing the code 0.0007162094116210938\n"
          ]
        }
      ]
    },
    {
      "cell_type": "markdown",
      "source": [
        "13. Explain the concept of the Diamond Problem in multiple inheritance. How does Python resolve it"
      ],
      "metadata": {
        "id": "IJwG4ywNhCJr"
      }
    },
    {
      "cell_type": "markdown",
      "source": [
        "it occurs when a class inherits from 2 or more than 2 classes.\n",
        "will lead to ambiguity in execution of method.\n",
        "\n",
        "To remove diamond problem python uses method resolution algorithm called o3 linearisation>> meaning that class that is inherit first in the derived class, that method will be called."
      ],
      "metadata": {
        "id": "4CX2NF1uhScq"
      }
    },
    {
      "cell_type": "code",
      "source": [
        "class Parent1:\n",
        "  def method(self):\n",
        "    print(\"This is method of parent1 \")\n",
        "class Parent2:\n",
        "  def method(self):\n",
        "    print(\"This is method of parent2 \")\n",
        "class Child(Parent1,Parent2):\n",
        "  def method1(self):\n",
        "    print(\"this is method of child \")\n",
        "obj = Child()\n",
        "obj.method1()\n",
        "\n",
        "obj.method()"
      ],
      "metadata": {
        "colab": {
          "base_uri": "https://localhost:8080/"
        },
        "id": "VYQ9dgu0g8be",
        "outputId": "6ab34ae2-10b2-4ffd-808d-f33006c95b1d"
      },
      "execution_count": 49,
      "outputs": [
        {
          "output_type": "stream",
          "name": "stdout",
          "text": [
            "this is method of child \n",
            "This is method of parent1 \n"
          ]
        }
      ]
    },
    {
      "cell_type": "markdown",
      "source": [
        "14. Write a class method that keeps track of the number of instances created from a class"
      ],
      "metadata": {
        "id": "9J9tuHB2ii30"
      }
    },
    {
      "cell_type": "code",
      "source": [
        "class InstanceCounter:\n",
        "  _instance_count = 0\n",
        "  def __init__(self):\n",
        "    InstanceCounter._instance_count += 1\n",
        "\n",
        "  @classmethod\n",
        "  def get_instance_count(cls):\n",
        "        \"\"\"Returns the total number of instances created.\"\"\"\n",
        "        return cls._instance_count\n",
        "\n",
        "\n",
        "obj1 = InstanceCounter()\n",
        "obj2 = InstanceCounter()\n",
        "\n",
        "\n",
        "\n",
        "print(InstanceCounter.get_instance_count())\n"
      ],
      "metadata": {
        "colab": {
          "base_uri": "https://localhost:8080/"
        },
        "id": "7WGyzezOiQT0",
        "outputId": "8083d5af-4072-4c6e-bfa8-ee5c1cb4780c"
      },
      "execution_count": 51,
      "outputs": [
        {
          "output_type": "stream",
          "name": "stdout",
          "text": [
            "2\n"
          ]
        }
      ]
    },
    {
      "cell_type": "markdown",
      "source": [
        "15.  Implement a static method in a class that checks if a given year is a leap year"
      ],
      "metadata": {
        "id": "YSiJ_3B7jD2T"
      }
    },
    {
      "cell_type": "code",
      "source": [
        "class LeapYearChecker:\n",
        "  @staticmethod\n",
        "  def is_leap_year(year):\n",
        "    if (year % 4 == 0 and year % 100 != 0) or (year % 400 == 0):\n",
        "      return True\n",
        "    else:\n",
        "      return False"
      ],
      "metadata": {
        "id": "VZAOpBRQjAdN"
      },
      "execution_count": 52,
      "outputs": []
    },
    {
      "cell_type": "code",
      "source": [
        "print(LeapYearChecker.is_leap_year(2024))\n",
        "print(LeapYearChecker.is_leap_year(2016))"
      ],
      "metadata": {
        "colab": {
          "base_uri": "https://localhost:8080/"
        },
        "id": "a83OtHyxjcqs",
        "outputId": "cb847fae-1925-47bd-c08d-a35407b2c68e"
      },
      "execution_count": 59,
      "outputs": [
        {
          "output_type": "stream",
          "name": "stdout",
          "text": [
            "True\n",
            "True\n"
          ]
        }
      ]
    },
    {
      "cell_type": "code",
      "source": [],
      "metadata": {
        "id": "SV4kWFpbjgNt"
      },
      "execution_count": null,
      "outputs": []
    }
  ]
}