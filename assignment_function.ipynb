{
  "nbformat": 4,
  "nbformat_minor": 0,
  "metadata": {
    "colab": {
      "provenance": [],
      "authorship_tag": "ABX9TyOCuQn6yVpnmbukFcsdAEdg",
      "include_colab_link": true
    },
    "kernelspec": {
      "name": "python3",
      "display_name": "Python 3"
    },
    "language_info": {
      "name": "python"
    }
  },
  "cells": [
    {
      "cell_type": "markdown",
      "metadata": {
        "id": "view-in-github",
        "colab_type": "text"
      },
      "source": [
        "<a href=\"https://colab.research.google.com/github/Ranjana688/firstassignment/blob/main/assignment_function.ipynb\" target=\"_parent\"><img src=\"https://colab.research.google.com/assets/colab-badge.svg\" alt=\"Open In Colab\"/></a>"
      ]
    },
    {
      "cell_type": "markdown",
      "source": [
        "**THEORY QUESTION**"
      ],
      "metadata": {
        "id": "VA6lbbOiGxs8"
      }
    },
    {
      "cell_type": "markdown",
      "source": [
        "1. What is the difference between a function and a method in Python?\n",
        "\n",
        "Function: A function is a block of code that performs a specific task. It is defined using the def keyword and is not tied to any specific object\n",
        "ex- def sum(a,b):\n",
        "        return a+b\n",
        "\n",
        "Method: A method is a function that is associated with an object. It operates on data contained in that object and is called on the object itself\n",
        "\n",
        "ex- l = []\n",
        "for i in range(10):\n",
        "    l.append(i)"
      ],
      "metadata": {
        "id": "Nij7iHDcGxmj"
      }
    },
    {
      "cell_type": "markdown",
      "source": [
        "2.  Explain the concept of function arguments and parameters in Python\n",
        "\n",
        "function paramenter : paramenters are given to specify the elements to function\n",
        "ex  def sum(a,b):\n",
        "        return a+b\n",
        "(a,b) are paramenter\n",
        "\n",
        "\n",
        "function argument: arguments give to code for as itis printning\n",
        "ex  print(\"hello\")\n",
        "\"hello\" is an argument"
      ],
      "metadata": {
        "id": "Ybcy_EoVGxhR"
      }
    },
    {
      "cell_type": "markdown",
      "source": [
        "3.  What are the different ways to define and call a function in Python?\n",
        "standard functions are called by their name and argument. like sum(2,5)\n",
        "default paramenter function is called by same step\n",
        "def greet(a,b=\"welcome to office):\n",
        "      result = a+b\n",
        "      return result\n"
      ],
      "metadata": {
        "id": "AITkNwvIGxWZ"
      }
    },
    {
      "cell_type": "markdown",
      "source": [
        "4. What is the purpose of the `return` statement in a Python function\n",
        "\n",
        "The return statement in a function is used to send a result or value back to the caller. It terminates the function's execution and provides a way to pass data from the function to the part of the program where it was called"
      ],
      "metadata": {
        "id": "844FQ08jGxJX"
      }
    },
    {
      "cell_type": "markdown",
      "source": [
        "5. What are iterators in Python and how do they differ from iterables?\n",
        "\n",
        "iterator:- an iterator is an object representing a collection of data. it returns the data one by one.\n",
        "iterables :- iterables are python object that is capable of returning their member one at a time l=[1,2,3,4,5]\n",
        "l is a iterable"
      ],
      "metadata": {
        "id": "mFJft9QaGxBY"
      }
    },
    {
      "cell_type": "markdown",
      "source": [
        "6. Explain the concept of generators in Python and how they are defined\n",
        "\n",
        "generators are return result in format of one by one isted of one go.it is less time taking compare the regular function. generator function use yield at the place of return\n",
        "def fac(n):\n",
        "    if n == 0:\n",
        "      return 1\n",
        "    else:\n",
        "     result = n*fac(n-1)\n",
        "     yield result"
      ],
      "metadata": {
        "id": "dMICTMCkGw1d"
      }
    },
    {
      "cell_type": "markdown",
      "source": [
        "7. What are the advantages of using generators over regular functions?\n",
        "\n",
        "Generators in Python offer several advantages over regular functions, especially when dealing with large datasets or scenarios where lazy evaluation is beneficial. Here's an overview of their advantages\n",
        "\n",
        "def generate_numbers():\n",
        "        yield i\n",
        "\n",
        "gen = generate_numbers()\n",
        "\n"
      ],
      "metadata": {
        "id": "3xEjtg-OGwpi"
      }
    },
    {
      "cell_type": "markdown",
      "source": [
        "8.  What is a lambda function in Python and when is it typically used?\n",
        "A lambda function in Python is a small, anonymous function that is start  using the lambda keyword. and normal functions defined with def, a lambda function is a single expression with no name, and it can have any number of input arguments but only one expression\n",
        "\n",
        "\n",
        "ad_num = lambda x, y: x+y"
      ],
      "metadata": {
        "id": "81b12K7TRfl9"
      }
    },
    {
      "cell_type": "markdown",
      "source": [
        "9. Explain the purpose and usage of the `map()` function in Python\n",
        "\n",
        "The map() function in Python is a built-in function that allows you to apply a given function to each item in an iterable (like a list, tuple, etc.) and return an iterable (usually a map object) containing the results. It's often used when you want to perform the same operation on every item in an iterable, and it simplifies the code by eliminating the need for explicit loops\n",
        "\n",
        "l1=[1,2,3]\n",
        "l2=[6,7,8]\n",
        "result = map(lambda x,y: x+y,l1,l2)"
      ],
      "metadata": {
        "id": "rq323ouvReMM"
      }
    },
    {
      "cell_type": "markdown",
      "source": [
        "10.  What is the difference between `map()`, `reduce()`, and `filter()` functions in Python?\n",
        "\n",
        "map() function used for do task with a iterables and return a iterable it take function and a list\n",
        "\n",
        "reduce() function used for reduse the iterables as the given intrections it take two arguments. reduce(lambda a,b:a+b,l1)\n",
        "\n",
        "\n",
        "filter() function use for filter the elements according to intrections l =[2,4,6,12,3,5,8,7,9,0]\n",
        "list(filter(lambda x: x%2==0,l))"
      ],
      "metadata": {
        "id": "SPnSxbP3Rd-f"
      }
    },
    {
      "cell_type": "markdown",
      "source": [
        "11. Using pen & Paper write the internal mechanism for sum operation using  reduce function on this given\n",
        "list:[47,11,42,13];\n",
        "\n",
        "reduce() function use to reduce the elemts as the given instructions\n",
        "\n",
        "l =[47,11,42,13]\n",
        "reduce(lambda x ,y: x+y,l)\n",
        "\n",
        "in first iteration x= 47 and y = 11\n",
        "47+11= 58\n",
        "\n",
        "in second iteration x= 58 and y = 42\n",
        "58+42= 100\n",
        "\n",
        "in third iteration x = 100 and y = 13\n",
        "100+13 = 113\n",
        "\n",
        "and result is 113\n",
        "then output is 113"
      ],
      "metadata": {
        "id": "wNxqcX58RdpT"
      }
    },
    {
      "cell_type": "markdown",
      "source": [
        "** PRACTICAL QUESTIONS**"
      ],
      "metadata": {
        "id": "A_RHHbWKWmtr"
      }
    },
    {
      "cell_type": "markdown",
      "source": [
        "1. Write a Python function that takes a list of numbers as input and returns the sum of all even numbers in\n",
        "the list"
      ],
      "metadata": {
        "id": "3oWorMCNBb8w"
      }
    },
    {
      "cell_type": "code",
      "source": [
        "l = [1,2,4,5,6,7,8,9]\n",
        "\n",
        "l1=list(filter(lambda a:a%2 ==0,l))\n",
        "\n",
        "from functools import reduce\n",
        "reduce(lambda a,b:a+b,l1)"
      ],
      "metadata": {
        "colab": {
          "base_uri": "https://localhost:8080/"
        },
        "id": "4Z6iVvD1Bc5C",
        "outputId": "3f996e21-44d1-4612-897a-f1322b1db811"
      },
      "execution_count": null,
      "outputs": [
        {
          "output_type": "execute_result",
          "data": {
            "text/plain": [
              "20"
            ]
          },
          "metadata": {},
          "execution_count": 6
        }
      ]
    },
    {
      "cell_type": "markdown",
      "source": [
        "2. Create a Python function that accepts a string and returns the reverse of that string"
      ],
      "metadata": {
        "id": "laecUz7QC4I_"
      }
    },
    {
      "cell_type": "code",
      "source": [
        "def reverse(s):\n",
        "  return str[::-1]\n",
        "\n",
        "reverse(\"apple\")"
      ],
      "metadata": {
        "colab": {
          "base_uri": "https://localhost:8080/",
          "height": 35
        },
        "id": "SKlrVdGxCFT3",
        "outputId": "6816a8b6-f0ca-4c17-9ca8-df5ec65167c6"
      },
      "execution_count": null,
      "outputs": [
        {
          "output_type": "execute_result",
          "data": {
            "text/plain": [
              "'elppa'"
            ],
            "application/vnd.google.colaboratory.intrinsic+json": {
              "type": "string"
            }
          },
          "metadata": {},
          "execution_count": 9
        }
      ]
    },
    {
      "cell_type": "markdown",
      "source": [
        "3. Implement a Python function that takes a list of integers and returns a new list containing the squares of\n",
        "each number"
      ],
      "metadata": {
        "id": "DYpmEYdtDnmX"
      }
    },
    {
      "cell_type": "code",
      "source": [
        "from builtins import list"
      ],
      "metadata": {
        "id": "T226x7dMEI3P"
      },
      "execution_count": 44,
      "outputs": []
    },
    {
      "cell_type": "code",
      "source": [
        "l = [1,2,3,4,5,6,7,8]\n",
        "\n",
        "list1 = list(map(lambda a:a**2,l))\n",
        "print(list1)"
      ],
      "metadata": {
        "colab": {
          "base_uri": "https://localhost:8080/"
        },
        "id": "WKa0WW4WDIKm",
        "outputId": "2b4b15df-b6f3-42e2-e611-478a702807ff"
      },
      "execution_count": null,
      "outputs": [
        {
          "output_type": "stream",
          "name": "stdout",
          "text": [
            "[1, 4, 9, 16, 25, 36, 49, 64]\n"
          ]
        }
      ]
    },
    {
      "cell_type": "markdown",
      "source": [
        "4. Write a Python function that checks if a given number is prime or not from 1 to 200"
      ],
      "metadata": {
        "id": "yJpM7TXAENYk"
      }
    },
    {
      "cell_type": "code",
      "source": [
        "def check_prime (n):\n",
        "  prime = []\n",
        "  not_prime = []\n",
        "  for i in range(2,n):\n",
        "    if n%i ==0:\n",
        "      prime.append(i)\n",
        "  return print(\"prime no :\",prime)\n",
        "\n",
        "\n",
        "\n",
        "check_prime(200)"
      ],
      "metadata": {
        "colab": {
          "base_uri": "https://localhost:8080/"
        },
        "id": "J8o_1PzzES38",
        "outputId": "ad3d29ae-9025-4867-d4fd-f0366c03f4e9"
      },
      "execution_count": null,
      "outputs": [
        {
          "output_type": "stream",
          "name": "stdout",
          "text": [
            "prime no : [2, 4, 5, 8, 10, 20, 25, 40, 50, 100]\n"
          ]
        }
      ]
    },
    {
      "cell_type": "markdown",
      "source": [
        "5. Create an iterator class in Python that generates the Fibonacci sequence up to a specified number of\n",
        "terms"
      ],
      "metadata": {
        "id": "01yLKYTO3dAb"
      }
    },
    {
      "cell_type": "code",
      "source": [
        "def fib(n):\n",
        "  a = 0\n",
        "  b = 1\n",
        "  for i in range(n):\n",
        "    yield a+b\n",
        "    a,b = b,a+b"
      ],
      "metadata": {
        "id": "tgp-pfRVE4YP"
      },
      "execution_count": 2,
      "outputs": []
    },
    {
      "cell_type": "code",
      "source": [
        "ab =fib(10)"
      ],
      "metadata": {
        "id": "NnzJoJgS35x7"
      },
      "execution_count": 4,
      "outputs": []
    },
    {
      "cell_type": "code",
      "source": [
        "next(ab)"
      ],
      "metadata": {
        "colab": {
          "base_uri": "https://localhost:8080/"
        },
        "id": "ntBJivJI4BnL",
        "outputId": "e18b6c7f-1253-4688-d31a-831713ffeba4"
      },
      "execution_count": 8,
      "outputs": [
        {
          "output_type": "execute_result",
          "data": {
            "text/plain": [
              "1"
            ]
          },
          "metadata": {},
          "execution_count": 8
        }
      ]
    },
    {
      "cell_type": "code",
      "source": [
        "next(ab)"
      ],
      "metadata": {
        "colab": {
          "base_uri": "https://localhost:8080/"
        },
        "id": "F962shm74IWo",
        "outputId": "7a25a193-c26c-482a-d45d-c1b9346c558f"
      },
      "execution_count": 9,
      "outputs": [
        {
          "output_type": "execute_result",
          "data": {
            "text/plain": [
              "2"
            ]
          },
          "metadata": {},
          "execution_count": 9
        }
      ]
    },
    {
      "cell_type": "code",
      "source": [
        "next(ab)"
      ],
      "metadata": {
        "colab": {
          "base_uri": "https://localhost:8080/"
        },
        "id": "yGwEe6su4ULt",
        "outputId": "cd94dc21-f1d4-4974-9b59-dfeab1e999c8"
      },
      "execution_count": 10,
      "outputs": [
        {
          "output_type": "execute_result",
          "data": {
            "text/plain": [
              "3"
            ]
          },
          "metadata": {},
          "execution_count": 10
        }
      ]
    },
    {
      "cell_type": "code",
      "source": [
        "next(ab)"
      ],
      "metadata": {
        "colab": {
          "base_uri": "https://localhost:8080/"
        },
        "id": "6Oe13aHz4WHW",
        "outputId": "0b1693ae-a5d4-4d28-afc8-2c0760e2db97"
      },
      "execution_count": 11,
      "outputs": [
        {
          "output_type": "execute_result",
          "data": {
            "text/plain": [
              "5"
            ]
          },
          "metadata": {},
          "execution_count": 11
        }
      ]
    },
    {
      "cell_type": "markdown",
      "source": [
        "6. Write a generator function in Python that yields the powers of 2 up to a given exponent"
      ],
      "metadata": {
        "id": "VR5fGL3R4yVs"
      }
    },
    {
      "cell_type": "code",
      "source": [
        "def power_of_no(n):\n",
        "  for i in range(1,n+1):\n",
        "    yield i**2"
      ],
      "metadata": {
        "id": "FcdG2PPS47Pu"
      },
      "execution_count": 31,
      "outputs": []
    },
    {
      "cell_type": "code",
      "source": [
        "a =power_of_no(10)"
      ],
      "metadata": {
        "id": "NU4TwwE75WWL"
      },
      "execution_count": 17,
      "outputs": []
    },
    {
      "cell_type": "code",
      "source": [
        "next(a)"
      ],
      "metadata": {
        "colab": {
          "base_uri": "https://localhost:8080/"
        },
        "id": "doawr3Mg5-lD",
        "outputId": "3d2d83c2-5fb7-46d4-80c6-d97255b5d2f6"
      },
      "execution_count": 18,
      "outputs": [
        {
          "output_type": "execute_result",
          "data": {
            "text/plain": [
              "1"
            ]
          },
          "metadata": {},
          "execution_count": 18
        }
      ]
    },
    {
      "cell_type": "code",
      "source": [
        "\n",
        "next(a)"
      ],
      "metadata": {
        "colab": {
          "base_uri": "https://localhost:8080/"
        },
        "id": "A4L-Nrd56Gku",
        "outputId": "9a9682d8-3b04-4f26-a30e-d36ab6b7a84b"
      },
      "execution_count": 19,
      "outputs": [
        {
          "output_type": "execute_result",
          "data": {
            "text/plain": [
              "2"
            ]
          },
          "metadata": {},
          "execution_count": 19
        }
      ]
    },
    {
      "cell_type": "code",
      "source": [
        "for power in power_of_no(5):\n",
        "    print(power)"
      ],
      "metadata": {
        "colab": {
          "base_uri": "https://localhost:8080/"
        },
        "id": "UQrELyo46JAQ",
        "outputId": "a28108e9-11a0-4d78-caa8-579c149efc42"
      },
      "execution_count": 32,
      "outputs": [
        {
          "output_type": "stream",
          "name": "stdout",
          "text": [
            "1\n",
            "4\n",
            "9\n",
            "16\n",
            "25\n"
          ]
        }
      ]
    },
    {
      "cell_type": "markdown",
      "source": [
        "7. Implement a generator function that reads a file line by line and yields each line as a string"
      ],
      "metadata": {
        "id": "hzO8gHj77cI6"
      }
    },
    {
      "cell_type": "code",
      "source": [
        "def read_file(n):\n",
        "  with open(n,'r') as f:\n",
        "    for line in f:\n",
        "      yield line"
      ],
      "metadata": {
        "id": "bs1x4A_N6hmg"
      },
      "execution_count": 36,
      "outputs": []
    },
    {
      "cell_type": "markdown",
      "source": [
        "8.  Use a lambda function in Python to sort a list of tuples based on the second element of each tuple"
      ],
      "metadata": {
        "id": "pl0z7eNf9kIQ"
      }
    },
    {
      "cell_type": "code",
      "source": [
        "t = [(1,2),(3,4),(8,5),(5,1),(4,6)]\n",
        "\n",
        "sorted_t = sorted(t,key=lambda x: x[1])\n",
        "print(sorted_t)\n"
      ],
      "metadata": {
        "colab": {
          "base_uri": "https://localhost:8080/",
          "height": 193
        },
        "id": "e1RiXWkL9d1y",
        "outputId": "7d8cad56-47be-4caf-d913-37dc3511f9c3"
      },
      "execution_count": 51,
      "outputs": [
        {
          "output_type": "error",
          "ename": "TypeError",
          "evalue": "'list' object is not callable",
          "traceback": [
            "\u001b[0;31m---------------------------------------------------------------------------\u001b[0m",
            "\u001b[0;31mTypeError\u001b[0m                                 Traceback (most recent call last)",
            "\u001b[0;32m<ipython-input-51-2b9a1b7c37fd>\u001b[0m in \u001b[0;36m<cell line: 3>\u001b[0;34m()\u001b[0m\n\u001b[1;32m      1\u001b[0m \u001b[0mt\u001b[0m \u001b[0;34m=\u001b[0m \u001b[0;34m[\u001b[0m\u001b[0;34m(\u001b[0m\u001b[0;36m1\u001b[0m\u001b[0;34m,\u001b[0m\u001b[0;36m2\u001b[0m\u001b[0;34m)\u001b[0m\u001b[0;34m,\u001b[0m\u001b[0;34m(\u001b[0m\u001b[0;36m3\u001b[0m\u001b[0;34m,\u001b[0m\u001b[0;36m4\u001b[0m\u001b[0;34m)\u001b[0m\u001b[0;34m,\u001b[0m\u001b[0;34m(\u001b[0m\u001b[0;36m8\u001b[0m\u001b[0;34m,\u001b[0m\u001b[0;36m5\u001b[0m\u001b[0;34m)\u001b[0m\u001b[0;34m,\u001b[0m\u001b[0;34m(\u001b[0m\u001b[0;36m5\u001b[0m\u001b[0;34m,\u001b[0m\u001b[0;36m1\u001b[0m\u001b[0;34m)\u001b[0m\u001b[0;34m,\u001b[0m\u001b[0;34m(\u001b[0m\u001b[0;36m4\u001b[0m\u001b[0;34m,\u001b[0m\u001b[0;36m6\u001b[0m\u001b[0;34m)\u001b[0m\u001b[0;34m]\u001b[0m\u001b[0;34m\u001b[0m\u001b[0;34m\u001b[0m\u001b[0m\n\u001b[1;32m      2\u001b[0m \u001b[0;34m\u001b[0m\u001b[0m\n\u001b[0;32m----> 3\u001b[0;31m \u001b[0msorted_t\u001b[0m \u001b[0;34m=\u001b[0m \u001b[0msorted\u001b[0m\u001b[0;34m(\u001b[0m\u001b[0mt\u001b[0m\u001b[0;34m,\u001b[0m\u001b[0mkey\u001b[0m\u001b[0;34m=\u001b[0m\u001b[0;32mlambda\u001b[0m \u001b[0mx\u001b[0m\u001b[0;34m:\u001b[0m \u001b[0mx\u001b[0m\u001b[0;34m[\u001b[0m\u001b[0;36m1\u001b[0m\u001b[0;34m]\u001b[0m\u001b[0;34m)\u001b[0m\u001b[0;34m\u001b[0m\u001b[0;34m\u001b[0m\u001b[0m\n\u001b[0m\u001b[1;32m      4\u001b[0m \u001b[0mprint\u001b[0m\u001b[0;34m(\u001b[0m\u001b[0msorted_t\u001b[0m\u001b[0;34m)\u001b[0m\u001b[0;34m\u001b[0m\u001b[0;34m\u001b[0m\u001b[0m\n",
            "\u001b[0;31mTypeError\u001b[0m: 'list' object is not callable"
          ]
        }
      ]
    },
    {
      "cell_type": "markdown",
      "source": [
        "9. Write a Python program that uses `map()` to convert a list of temperatures from Celsius to Fahrenheit"
      ],
      "metadata": {
        "id": "3jkubEDCD0pt"
      }
    },
    {
      "cell_type": "code",
      "source": [
        "celsius_temp = [20,100,106,110,90]\n",
        "fahrenheit_temp = list(map(lambda x: x * 9/5 + 32,celsius_temp))"
      ],
      "metadata": {
        "id": "lSLftkjWA6vn"
      },
      "execution_count": 55,
      "outputs": []
    },
    {
      "cell_type": "code",
      "source": [
        "fahrenheit_temp"
      ],
      "metadata": {
        "colab": {
          "base_uri": "https://localhost:8080/"
        },
        "id": "mOOrnimcFBWy",
        "outputId": "c32afbd2-607c-4c6b-ead4-fa29d7e8be32"
      },
      "execution_count": 56,
      "outputs": [
        {
          "output_type": "execute_result",
          "data": {
            "text/plain": [
              "[68.0, 212.0, 222.8, 230.0, 194.0]"
            ]
          },
          "metadata": {},
          "execution_count": 56
        }
      ]
    },
    {
      "cell_type": "markdown",
      "source": [
        "10. Create a Python program that uses `filter()` to remove all the vowels from a given string."
      ],
      "metadata": {
        "id": "1HqPvmDbFJCp"
      }
    },
    {
      "cell_type": "code",
      "source": [
        "str = \"hello everyone\"\n",
        "vowels = ['a','e','i','o','u']\n",
        "filtered_str = list(filter(lambda x: x not in vowels,str))"
      ],
      "metadata": {
        "id": "pkoqNydvExIP"
      },
      "execution_count": 57,
      "outputs": []
    },
    {
      "cell_type": "code",
      "source": [
        "filtered_str"
      ],
      "metadata": {
        "colab": {
          "base_uri": "https://localhost:8080/"
        },
        "id": "LHXlANNIF0iO",
        "outputId": "801dff5b-bb4c-4e60-cff7-7e8e69cc67a7"
      },
      "execution_count": 58,
      "outputs": [
        {
          "output_type": "execute_result",
          "data": {
            "text/plain": [
              "['h', 'l', 'l', ' ', 'v', 'r', 'y', 'n']"
            ]
          },
          "metadata": {},
          "execution_count": 58
        }
      ]
    },
    {
      "cell_type": "markdown",
      "source": [
        "11.  Imagine an accounting routine used in a book shop. It works on a list with sublists, which look like this"
      ],
      "metadata": {
        "id": "nuqdNiMEF9BM"
      }
    },
    {
      "cell_type": "code",
      "source": [],
      "metadata": {
        "id": "q8KiO5p7F3G4"
      },
      "execution_count": null,
      "outputs": []
    }
  ]
}