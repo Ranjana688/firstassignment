{
  "nbformat": 4,
  "nbformat_minor": 0,
  "metadata": {
    "colab": {
      "provenance": [],
      "authorship_tag": "ABX9TyM8AN3EW8jrZHT4J7j3lzsp",
      "include_colab_link": true
    },
    "kernelspec": {
      "name": "python3",
      "display_name": "Python 3"
    },
    "language_info": {
      "name": "python"
    }
  },
  "cells": [
    {
      "cell_type": "markdown",
      "metadata": {
        "id": "view-in-github",
        "colab_type": "text"
      },
      "source": [
        "<a href=\"https://colab.research.google.com/github/Ranjana688/firstassignment/blob/main/FILE_HANDLING_ASSIGNMENT.ipynb\" target=\"_parent\"><img src=\"https://colab.research.google.com/assets/colab-badge.svg\" alt=\"Open In Colab\"/></a>"
      ]
    },
    {
      "cell_type": "markdown",
      "source": [
        "1. What is the difference between interpreted and compiled languages"
      ],
      "metadata": {
        "id": "2grP6Qq23nZB"
      }
    },
    {
      "cell_type": "markdown",
      "source": [
        "compiled languages are used a compiler which is convert source code in machine code that is understand by cpu. example c,c++,java.\n",
        "\n",
        "\n",
        "interpreted language\n",
        "the code is executed line by line, this means code is executed directly without seprated compilation step to convert into machine code. example python"
      ],
      "metadata": {
        "id": "KqjypUTF3s0p"
      }
    },
    {
      "cell_type": "markdown",
      "source": [
        "2. What is exception handling in Python\n",
        "\n",
        "\n",
        "in python an exception is an event that occurs during programme execution that disrupts the regular flow of code."
      ],
      "metadata": {
        "id": "83ZYwwiZ3sxQ"
      }
    },
    {
      "cell_type": "markdown",
      "source": [
        "3. What is the purpose of the finally block in exception handling\n",
        "\n",
        "finally block in execption is always execute either conditions are satisfied or not."
      ],
      "metadata": {
        "id": "yk2XCnu63sun"
      }
    },
    {
      "cell_type": "markdown",
      "source": [
        "4. What is logging in Python\n",
        "\n",
        "It is the process of identifying and fixing bugs/issues in your code"
      ],
      "metadata": {
        "id": "7osorhq-3ssL"
      }
    },
    {
      "cell_type": "markdown",
      "source": [
        "5. What is the significance of the __del__ method in Python\n",
        "\n",
        "\n",
        "The __del__ method in Python is a special method, also known as a destructor, which is called when an object is about to be destroyed. It is primarily used to clean up resources or perform finalization tasks before the object is garbage collected"
      ],
      "metadata": {
        "id": "B_3jqRDD3spg"
      }
    },
    {
      "cell_type": "markdown",
      "source": [
        "6.  What is the difference between import and from ... import in Python\n",
        "\n",
        "import is used for import from library.\n",
        "from .....import is used to import a specific module member by it calling method"
      ],
      "metadata": {
        "id": "J5sn67WS3sm-"
      }
    },
    {
      "cell_type": "markdown",
      "source": [
        "7. How can you handle multiple exceptions in Python\n",
        "\n",
        "\n",
        "\n",
        "In Python, you can handle multiple exceptions using the try-except block. Python provides several ways to handle multiple exceptions effectively, depending on the situation"
      ],
      "metadata": {
        "id": "t1dTx9HV3skD"
      }
    },
    {
      "cell_type": "markdown",
      "source": [
        "8. What is the purpose of the with statement when handling files in Python\n",
        "\n",
        "The with statement in Python is used to simplify resource management, particularly when working with files. Its primary purpose is to ensure that resources (like files) are properly acquired and released, even if an error occurs during processing. When used with files, the with statement automatically handles opening and closing the file, reducing the risk of resource leaks"
      ],
      "metadata": {
        "id": "vxXHNeoA3shN"
      }
    },
    {
      "cell_type": "markdown",
      "source": [
        "9. What is the difference between multithreading and multiprocessing\n",
        "\n",
        "Multithreading\n",
        "Definition: Multithreading involves running multiple threads within the same process. Threads share the same memory space but execute independently.\n",
        "Use: Suitable for I/O-bound tasks (ex network requests, file operations) where the program spends time waiting for external resources\n",
        "\n",
        "Multiprocessing\n",
        "Definition: Multiprocessing involves running multiple processes, each with its own memory space. This enables true parallelism, as each process runs on a separate CPU core.\n",
        "Use: Suitable for CPU-bound tasks (ex heavy computations, data processing) where performance is limited by the CPU"
      ],
      "metadata": {
        "id": "m3uNsIcw3se_"
      }
    },
    {
      "cell_type": "markdown",
      "source": [
        "10. What are the advantages of using logging in a program\n",
        "\n",
        "Using logging in a program offers several advantages that help with debugging, monitoring, and maintaining the software. Unlike print statements, logging provides a structured and flexible way to track what happens during the execution of your program\n",
        "1.debbuging\n",
        "2.monitoring\n",
        "3.flexibility\n",
        "4.extensibility"
      ],
      "metadata": {
        "id": "QLXDHkwO3scY"
      }
    },
    {
      "cell_type": "markdown",
      "source": [
        "11. What is memory management in Python:-\n",
        "Memory management in Python refers to the process of efficiently allocating, using, and freeing memory during the execution of a Python program. Python has a built-in memory management system that handles the allocation and deallocation of memory automatically, making it easier for developers to focus on writing code without worrying about low-level memory operation"
      ],
      "metadata": {
        "id": "yU9LQenO3sZx"
      }
    },
    {
      "cell_type": "markdown",
      "source": [
        "12. What are the basic steps involved in exception handling in Python\n",
        "\n",
        "\n",
        "\n",
        "\n",
        "\n",
        "basic steps:-\n",
        "try:\n",
        "  suspicious code\n",
        "except:\n",
        "  executed when exception occurs in try block\n",
        "finally:\n",
        "  always executed"
      ],
      "metadata": {
        "id": "PE4BLK6X3sXR"
      }
    },
    {
      "cell_type": "markdown",
      "source": [
        "13 Why is memory management important in Python\n",
        "\n",
        "Memory management is important in Python (and any programming language) because it ensures efficient and optimal use of system resources, leading to better program performance and reliability"
      ],
      "metadata": {
        "id": "kVnMEbjU3sUu"
      }
    },
    {
      "cell_type": "markdown",
      "source": [
        "14. What is the role of try and except in exception handling\n",
        "\n",
        "try :- try used for give an instruction that may have suspicious code\n",
        " except in the case when try block have issue in execuation when except block is perform"
      ],
      "metadata": {
        "id": "wKEQ_LSd3sSI"
      }
    },
    {
      "cell_type": "markdown",
      "source": [
        "15. How does Python's garbage collection system work\n",
        "\n",
        "Python's garbage collection system is an integral part of its memory management process. It ensures that unused objects are automatically removed from memory, freeing up resources for other parts of the program"
      ],
      "metadata": {
        "id": "rQIEF2Fu3sPo"
      }
    },
    {
      "cell_type": "markdown",
      "source": [
        "16. What is the purpose of the else block in exception handling\n",
        "\n",
        "\n",
        "The else block in Python's exception handling system is an optional component that can be used in conjunction with try and except. Its primary purpose is to define code that should be executed only if no exceptions were raised in the try block. This can help keep the error-handling logic clear and concise, separating the normal logic from the exception-handling logic"
      ],
      "metadata": {
        "id": "-Vy3Ztc43sNI"
      }
    },
    {
      "cell_type": "markdown",
      "source": [
        "17. What are the common logging levels in Python\n",
        "\n",
        "common logging level in python:\n",
        "1. debug\n",
        "2. info\n",
        "3. warning\n",
        "4. error\n",
        "5. critical"
      ],
      "metadata": {
        "id": "wnjq6lzk3sKv"
      }
    },
    {
      "cell_type": "markdown",
      "source": [
        "18. What is the difference between os.fork() and multiprocessing in Python\n",
        "\n",
        "1 os.fork()\n",
        "os.fork() is a system call in Python that is used to create a new child process by duplicating the current process.\n",
        "The new child process created is a copy of the parent process, but it has its own memory space.\n",
        "The child process will receive a return value of 0, while the parent process will receive the child process's PID (Process ID)\n",
        "\n",
        "2 multiprocessing Module\n",
        "The multiprocessing module is a higher-level library in Python designed to support the creation of multiple processes, enabling parallel processing.\n",
        "It provides a more Pythonic and user-friendly interface for working with processes.\n",
        "multiprocessing abstracts away much of the complexity involved in process management and provides features for inter-process communication, synchronization, and shared memory."
      ],
      "metadata": {
        "id": "dsspDHi93sIc"
      }
    },
    {
      "cell_type": "markdown",
      "source": [
        "19. What is the importance of closing a file in Python\n",
        "\n",
        "1 resource management\n",
        "2 data integrity\n",
        "3 stability\n",
        "4 good programming practice\n"
      ],
      "metadata": {
        "id": "uYYIbuTI3sF8"
      }
    },
    {
      "cell_type": "markdown",
      "source": [
        "20. What is the difference between file.read() and file.readline() in Python\n",
        "\n",
        "file.read() is used for read file in proper maner.\n",
        "file.readline() is have specific number as a parameter which read line in that specific bytes."
      ],
      "metadata": {
        "id": "v-A-UAD_3sDr"
      }
    },
    {
      "cell_type": "markdown",
      "source": [
        "21. What is the logging module in Python used for\n",
        "\n",
        "\n",
        "The logging module in Python is used to track events and errors that occur during the execution of a program. It provides a flexible framework for logging messages, which can help developers track and debug issues, monitor the behavior of the application, and maintain records of important events"
      ],
      "metadata": {
        "id": "O2OrJ6BA3sBQ"
      }
    },
    {
      "cell_type": "markdown",
      "source": [
        "22. What is the os module in Python used for in file handling:-\n",
        "The os module in Python provides a way to interact with the operating system, allowing you to perform various system-related tasks such as file and directory manipulation, process management, and environment variables. It serves as a bridge between Python code and the underlying operating system, providing a high-level interface for common tasks"
      ],
      "metadata": {
        "id": "2iz6giDA3r-4"
      }
    },
    {
      "cell_type": "markdown",
      "source": [
        "23. What are the challenges associated with memory management in Python\n",
        "\n",
        "\n",
        "Memory management in Python is handled automatically through garbage collection and reference counting, but there are still several challenges and considerations that developers should be aware of. Here are some of the main challenges associated with memory management in Python\n",
        "1 Reference Counting and Circular References\n",
        "2 Memory Leaks\n",
        "3 Global Interpreter Lock (GIL)\n",
        "4 Large Objects and Memory Fragmentation\n",
        "5 High Memory Usage in Long-Running Processes\n"
      ],
      "metadata": {
        "id": "7wquIFjV3r8D"
      }
    },
    {
      "cell_type": "markdown",
      "source": [
        "24. How do you raise an exception manually in Python\n",
        "\n",
        "In Python, you can raise an exception manually using the raise statement. This allows you to create and raise exceptions explicitly, either to signal an error condition or to handle specific situations that your program needs to address"
      ],
      "metadata": {
        "id": "CS4cPrnw3r5d"
      }
    },
    {
      "cell_type": "markdown",
      "source": [
        "25. Why is it important to use multithreading in certain applications.\n",
        "\n",
        "\n",
        "Multithreading is important in certain applications because it allows multiple tasks to be executed concurrently, improving efficiency, responsiveness, and overall performance, especially in specific scenarios. Here’s why multithreading is crucial for certain application\n",
        "1. Improved Responsiveness in Interactive Applications\n",
        "2. Efficient Handling of I/O-bound Tasks\n",
        "3. Faster Execution of Independent, Parallelizable Tasks\n",
        "4. Real-time and Time-Critical Application"
      ],
      "metadata": {
        "id": "hfpPP9rk3r3P"
      }
    },
    {
      "cell_type": "markdown",
      "source": [
        "Practical **Questions**"
      ],
      "metadata": {
        "id": "5ntmEX863r0k"
      }
    },
    {
      "cell_type": "markdown",
      "source": [
        "1. How can you open a file for writing in Python and write a string to it"
      ],
      "metadata": {
        "id": "IVUP0aWy3ryY"
      }
    },
    {
      "cell_type": "code",
      "source": [
        "with open(\"file.txt\",\"w\") as f:\n",
        "  f.write(\"this is my file\")"
      ],
      "metadata": {
        "id": "-BHcaiYKFsmr"
      },
      "execution_count": 1,
      "outputs": []
    },
    {
      "cell_type": "markdown",
      "source": [
        "2. Write a Python program to read the contents of a file and print each line"
      ],
      "metadata": {
        "id": "828LsjJN3rv3"
      }
    },
    {
      "cell_type": "code",
      "source": [
        "with open(\"file.txt\",\"r\") as f:\n",
        "  print(f.read())"
      ],
      "metadata": {
        "colab": {
          "base_uri": "https://localhost:8080/"
        },
        "id": "LXfrTlqcGSXi",
        "outputId": "5e8d210c-0be4-43a3-c504-68637adcbf42"
      },
      "execution_count": 2,
      "outputs": [
        {
          "output_type": "stream",
          "name": "stdout",
          "text": [
            "this is my file\n"
          ]
        }
      ]
    },
    {
      "cell_type": "markdown",
      "source": [
        "3. How would you handle a case where the file doesn't exist while trying to open it for reading\n"
      ],
      "metadata": {
        "id": "EZ9bFXq93rtX"
      }
    },
    {
      "cell_type": "code",
      "source": [
        "try:\n",
        "  with open(\"example_file.txt\",\"r\") as f:\n",
        "    print(f.read())\n",
        "except FileNotFoundError as e:\n",
        "  print(\"file not found\",e)"
      ],
      "metadata": {
        "colab": {
          "base_uri": "https://localhost:8080/"
        },
        "id": "2tWOskpDGuEz",
        "outputId": "4e3e6e69-aebb-442d-e6e4-4f2f4808abe5"
      },
      "execution_count": 3,
      "outputs": [
        {
          "output_type": "stream",
          "name": "stdout",
          "text": [
            "file not found [Errno 2] No such file or directory: 'example_file.txt'\n"
          ]
        }
      ]
    },
    {
      "cell_type": "markdown",
      "source": [
        "4. Write a Python script that reads from one file and writes its content to another file"
      ],
      "metadata": {
        "id": "OzSB6vu03rqt"
      }
    },
    {
      "cell_type": "code",
      "source": [
        "# Define the source and destination file paths\n",
        "source_file = \"file.txt\"\n",
        "destination_file = \"destination.txt\"\n",
        "\n",
        "try:\n",
        "    with open(source_file, \"r\") as source:\n",
        "        content = source.read()\n",
        "\n",
        "    with open(destination_file, \"w\") as destination:\n",
        "        destination.write(content)\n",
        "\n",
        "    print(f\"Content from {source_file} has been successfully copied to {destination_file}.\")\n",
        "\n",
        "except FileNotFoundError:\n",
        "    print(f\"Error: The file {source_file} does not exist.\")\n",
        "except IOError as e:\n",
        "    print(f\"Error: An I/O error occurred: {e}\")\n"
      ],
      "metadata": {
        "colab": {
          "base_uri": "https://localhost:8080/"
        },
        "id": "ve-HGbEAHWab",
        "outputId": "4c9da8c3-8079-4bb7-e160-0cc8b2f0cb4a"
      },
      "execution_count": 4,
      "outputs": [
        {
          "output_type": "stream",
          "name": "stdout",
          "text": [
            "Content from file.txt has been successfully copied to destination.txt.\n"
          ]
        }
      ]
    },
    {
      "cell_type": "markdown",
      "source": [
        "5. How would you catch and handle division by zero error in Python"
      ],
      "metadata": {
        "id": "zCKBDCCd3roJ"
      }
    },
    {
      "cell_type": "code",
      "source": [
        "\n",
        "try:\n",
        "  a=10\n",
        "  b=0\n",
        "  print(a/b)\n",
        "except ZeroDivisionError as e:\n",
        "  print(\"error\",e)"
      ],
      "metadata": {
        "colab": {
          "base_uri": "https://localhost:8080/"
        },
        "id": "Wa9_hvlWH6Ia",
        "outputId": "9582d30e-3949-486c-e2e4-42c186ac102a"
      },
      "execution_count": 9,
      "outputs": [
        {
          "output_type": "stream",
          "name": "stdout",
          "text": [
            "error division by zero\n"
          ]
        }
      ]
    },
    {
      "cell_type": "markdown",
      "source": [
        "6. Write a Python program that logs an error message to a log file when a division by zero exception occurs"
      ],
      "metadata": {
        "id": "vYZyjRDe3rl8"
      }
    },
    {
      "cell_type": "code",
      "source": [
        "import logging\n",
        "\n",
        "logging.basicConfig(\n",
        "    filename='error_log.txt',\n",
        "    level=logging.ERROR,\n",
        "    format='%(asctime)s - %(levelname)s - %(message)s'\n",
        ")\n",
        "\n",
        "def divide_numbers(numerator, denominator):\n",
        "    try:\n",
        "      result = numerator / denominator\n",
        "      print(f\"The result is: {result}\")\n",
        "    except ZeroDivisionError as e:\n",
        "\n",
        "        logging.error(\"Division by zero error occurred: %s\", e)\n",
        "        print(\"Error: Cannot divide by zero. Please check the log file for details.\")\n",
        "\n",
        "# Example usage\n",
        "numerator = 10\n",
        "denominator = 0\n",
        "\n",
        "divide_numbers(numerator, denominator)\n"
      ],
      "metadata": {
        "colab": {
          "base_uri": "https://localhost:8080/"
        },
        "id": "0wPaSyJuJKVq",
        "outputId": "2de0fb95-522c-4f6c-bd5c-510813b489c7"
      },
      "execution_count": 10,
      "outputs": [
        {
          "output_type": "stream",
          "name": "stderr",
          "text": [
            "ERROR:root:Division by zero error occurred: division by zero\n"
          ]
        },
        {
          "output_type": "stream",
          "name": "stdout",
          "text": [
            "Error: Cannot divide by zero. Please check the log file for details.\n"
          ]
        }
      ]
    },
    {
      "cell_type": "markdown",
      "source": [
        "7. How do you log information at different levels (INFO, ERROR, WARNING) in Python using the logging module"
      ],
      "metadata": {
        "id": "PxvJfZDN3riy"
      }
    },
    {
      "cell_type": "code",
      "source": [
        "import logging\n",
        "\n",
        "\n",
        "logging.basicConfig(\n",
        "    filename='example_log.txt',\n",
        "    level=logging.DEBUG,\n",
        "    format='%(asctime)s - %(levelname)s - %(message)s'\n",
        ")\n",
        "\n",
        "\n",
        "\n",
        "logging.debug(\"This is a debug message.\")\n",
        "logging.info(\"This is an info message.\")\n",
        "logging.warning(\"This is a warning message.\")\n",
        "logging.error(\"This is an error message.\")\n",
        "logging.critical(\"This is a critical error message.\")\n"
      ],
      "metadata": {
        "colab": {
          "base_uri": "https://localhost:8080/"
        },
        "id": "7tJwAbRAJs9K",
        "outputId": "4330517b-a703-4ca2-df79-534a4a4a6a63"
      },
      "execution_count": 11,
      "outputs": [
        {
          "output_type": "stream",
          "name": "stderr",
          "text": [
            "WARNING:root:This is a warning message.\n",
            "ERROR:root:This is an error message.\n",
            "CRITICAL:root:This is a critical error message.\n"
          ]
        }
      ]
    },
    {
      "cell_type": "markdown",
      "source": [
        "8. Write a program to handle a file opening error using exception handling"
      ],
      "metadata": {
        "id": "9o6AjO183rbS"
      }
    },
    {
      "cell_type": "code",
      "source": [
        "try:\n",
        "  filename = \"non_existent_file.txt\"\n",
        "  with open(filename, \"r\") as file:\n",
        "        content = file.read()\n",
        "        print(content)\n",
        "\n",
        "except FileNotFoundError:\n",
        "\n",
        "    print(f\"Error: The file '{filename}' does not exist.\")\n",
        "\n",
        "except IOError as e:\n",
        "\n",
        "    print(f\"Error: An I/O error occurred: {e}\")\n"
      ],
      "metadata": {
        "colab": {
          "base_uri": "https://localhost:8080/"
        },
        "id": "Vl9XCap3LZGW",
        "outputId": "6f9547a5-8358-477f-d886-65b96db8ce62"
      },
      "execution_count": 12,
      "outputs": [
        {
          "output_type": "stream",
          "name": "stdout",
          "text": [
            "Error: The file 'non_existent_file.txt' does not exist.\n"
          ]
        }
      ]
    },
    {
      "cell_type": "markdown",
      "source": [
        "9. How can you read a file line by line and store its content in a list in Python"
      ],
      "metadata": {
        "id": "AOI_D1Rd3rOg"
      }
    },
    {
      "cell_type": "code",
      "source": [
        "new_list = []\n",
        "with open(\"file.txt\",\"r\") as f:\n",
        "  for i in f:\n",
        "    new_list.append(i)\n",
        "print(new_list)"
      ],
      "metadata": {
        "colab": {
          "base_uri": "https://localhost:8080/"
        },
        "id": "Rk8mu8ycLtqj",
        "outputId": "c8e2def3-54f7-4523-95ea-daed7da0afb7"
      },
      "execution_count": 13,
      "outputs": [
        {
          "output_type": "stream",
          "name": "stdout",
          "text": [
            "['this is my file']\n"
          ]
        }
      ]
    },
    {
      "cell_type": "markdown",
      "source": [
        "10.  How can you append data to an existing file in Python"
      ],
      "metadata": {
        "id": "4cA-LWfQME_F"
      }
    },
    {
      "cell_type": "code",
      "source": [
        "with open(\"file.txt\",\"a\") as f:\n",
        "  f.write(\"this second line in file\")"
      ],
      "metadata": {
        "id": "OyGnRsqeMSxg"
      },
      "execution_count": 14,
      "outputs": []
    },
    {
      "cell_type": "markdown",
      "source": [
        "11. Write a Python program that uses a try-except block to handle an error when attempting to access a\n",
        "dictionary key that doesn't exist\n"
      ],
      "metadata": {
        "id": "NcC_JWJIME1M"
      }
    },
    {
      "cell_type": "code",
      "source": [
        "my_dict = {\"name\": \"John\", \"age\": 30, \"city\": \"New York\"}\n",
        "\n",
        "try:\n",
        "  key_to_access = \"country\"\n",
        "  value = my_dict[key_to_access]\n",
        "  print(f\"The value for '{key_to_access}' is: {value}\")\n",
        "\n",
        "except KeyError:\n",
        "    print(f\"Error: The key '{key_to_access}' does not exist in the dictionary.\")\n"
      ],
      "metadata": {
        "colab": {
          "base_uri": "https://localhost:8080/"
        },
        "id": "X4FELeNzMvmq",
        "outputId": "d1c24ee8-2fb9-463c-d6d4-8ffab1041bab"
      },
      "execution_count": 16,
      "outputs": [
        {
          "output_type": "stream",
          "name": "stdout",
          "text": [
            "Error: The key 'country' does not exist in the dictionary.\n"
          ]
        }
      ]
    },
    {
      "cell_type": "markdown",
      "source": [
        "12. Write a program that demonstrates using multiple except blocks to handle different types of exceptions"
      ],
      "metadata": {
        "id": "CmiaJw84MEqz"
      }
    },
    {
      "cell_type": "code",
      "source": [
        "try:\n",
        "    numerator = 10\n",
        "    denominator = 0\n",
        "    result = numerator / denominator\n",
        "    print(f\"The result is: {result}\")\n",
        "\n",
        "\n",
        "    filename = \"non_existent_file.txt\"\n",
        "    with open(filename, \"r\") as file:\n",
        "        content = file.read()\n",
        "        print(content)\n",
        "\n",
        "\n",
        "    user_input = \"abc\"\n",
        "    number = int(user_input)\n",
        "\n",
        "except ZeroDivisionError:\n",
        "    print(\"Error: Cannot divide by zero.\")\n",
        "\n",
        "except FileNotFoundError:\n",
        "    print(f\"Error: The file does not exist.\")\n",
        "\n",
        "except ValueError:\n",
        "    print(\"Error: Invalid input. Please enter a valid integer.\")\n",
        "\n",
        "except Exception as e:\n",
        "    print(f\"An unexpected error occurred: {e}\")\n"
      ],
      "metadata": {
        "colab": {
          "base_uri": "https://localhost:8080/"
        },
        "id": "T9Iv-CTxNNeJ",
        "outputId": "351e9039-84bb-42f5-cc6b-3f94b61565ae"
      },
      "execution_count": 17,
      "outputs": [
        {
          "output_type": "stream",
          "name": "stdout",
          "text": [
            "Error: Cannot divide by zero.\n"
          ]
        }
      ]
    },
    {
      "cell_type": "markdown",
      "source": [
        "13. How would you check if a file exists before attempting to read it in Python"
      ],
      "metadata": {
        "id": "P_J0vLMlMEk0"
      }
    },
    {
      "cell_type": "code",
      "source": [
        "import os\n",
        "\n",
        "filename = \"example.txt\"\n",
        "if os.path.exists(filename):\n",
        "    with open(filename, \"r\") as file:\n",
        "        content = file.read()\n",
        "        print(content)\n",
        "else:\n",
        "    print(f\"Error: The file '{filename}' does not exist.\")\n"
      ],
      "metadata": {
        "colab": {
          "base_uri": "https://localhost:8080/"
        },
        "id": "pb747bWmNg__",
        "outputId": "cf3d1b6c-d5f1-4744-8dc5-aabcaf72c8fc"
      },
      "execution_count": 20,
      "outputs": [
        {
          "output_type": "stream",
          "name": "stdout",
          "text": [
            "Error: The file 'example.txt' does not exist.\n"
          ]
        }
      ]
    },
    {
      "cell_type": "markdown",
      "source": [
        "14.  Write a program that uses the logging module to log both informational and error messages"
      ],
      "metadata": {
        "id": "Xvr0Pw2bMEey"
      }
    },
    {
      "cell_type": "code",
      "source": [
        "import logging\n",
        "\n",
        "\n",
        "logging.basicConfig(\n",
        "    filename='app.log',\n",
        "    level=logging.DEBUG,\n",
        "    format='%(asctime)s - %(levelname)s - %(message)s'\n",
        ")\n",
        "\n",
        "\n",
        "logging.info(\"This is an informational message. The program is running smoothly.\")\n",
        "\n",
        "try:\n",
        "\n",
        "    numerator = 10\n",
        "    denominator = 0\n",
        "    result = numerator / denominator\n",
        "\n",
        "except ZeroDivisionError as e:\n",
        "    logging.error(\"Error occurred: Division by zero.\", exc_info=True)\n",
        "logging.info(\"Program has finished executing.\")\n"
      ],
      "metadata": {
        "colab": {
          "base_uri": "https://localhost:8080/"
        },
        "id": "Vo6jIn_kOCbf",
        "outputId": "580b564b-696c-441b-8c04-746810f9b912"
      },
      "execution_count": 21,
      "outputs": [
        {
          "output_type": "stream",
          "name": "stderr",
          "text": [
            "ERROR:root:Error occurred: Division by zero.\n",
            "Traceback (most recent call last):\n",
            "  File \"<ipython-input-21-f5250f61b53a>\", line 17, in <cell line: 0>\n",
            "    result = numerator / denominator\n",
            "            ~~~~~~~~~~^~~~~~~~~~~~~\n",
            "ZeroDivisionError: division by zero\n"
          ]
        }
      ]
    },
    {
      "cell_type": "markdown",
      "source": [
        "15.  Write a Python program that prints the content of a file and handles the case when the file is empty"
      ],
      "metadata": {
        "id": "4UcT919nMEY2"
      }
    },
    {
      "cell_type": "code",
      "source": [
        "def read_file(filename):\n",
        "    try:\n",
        "\n",
        "        with open(filename, \"r\") as file:\n",
        "            content = file.read()\n",
        "            if not content:\n",
        "                print(f\"The file '{filename}' is empty.\")\n",
        "            else:\n",
        "                print(f\"Content of the file '{filename}':\")\n",
        "                print(content)\n",
        "\n",
        "    except FileNotFoundError:\n",
        "        print(f\"Error: The file '{filename}' does not exist.\")\n",
        "    except IOError as e:\n",
        "        print(f\"Error: An I/O error occurred: {e}\")\n",
        "\n",
        "\n",
        "filename = \"example.txt\"\n",
        "read_file(filename)\n"
      ],
      "metadata": {
        "colab": {
          "base_uri": "https://localhost:8080/"
        },
        "id": "8n_kwZT0Oaq6",
        "outputId": "d34b0ea3-3fb1-4d0b-877d-69f9839d6b8a"
      },
      "execution_count": 22,
      "outputs": [
        {
          "output_type": "stream",
          "name": "stdout",
          "text": [
            "Error: The file 'example.txt' does not exist.\n"
          ]
        }
      ]
    },
    {
      "cell_type": "markdown",
      "source": [
        "16. F Demonstrate how to use memory profiling to check the memory usage of a small program"
      ],
      "metadata": {
        "id": "7SKEXfDCMESE"
      }
    },
    {
      "cell_type": "code",
      "source": [
        "!pip install memory_profiler\n",
        "from memory_profiler import profile\n",
        "\n",
        "@profile\n",
        "def calculate_sum():\n",
        "    numbers = list(range(1, 1000000))\n",
        "    total = sum(numbers)\n",
        "    print(\"Sum of numbers:\", total)\n",
        "\n",
        "if __name__ == \"__main__\":\n",
        "    calculate_sum()\n",
        "@profile\n",
        "def calculate_sum():\n",
        "    numbers = list(range(1, 1000000))\n",
        "    total = sum(numbers)\n",
        "    print(\"Sum of numbers:\", total)\n",
        "\n",
        "if __name__ == \"__main__\":\n",
        "    calculate_sum()\n",
        "\n",
        "\n"
      ],
      "metadata": {
        "colab": {
          "base_uri": "https://localhost:8080/"
        },
        "id": "wc5ix4VlOyr4",
        "outputId": "504e119f-b757-4f9a-bc0b-516423d22b74"
      },
      "execution_count": 27,
      "outputs": [
        {
          "output_type": "stream",
          "name": "stdout",
          "text": [
            "Collecting memory_profiler\n",
            "  Downloading memory_profiler-0.61.0-py3-none-any.whl.metadata (20 kB)\n",
            "Requirement already satisfied: psutil in /usr/local/lib/python3.11/dist-packages (from memory_profiler) (5.9.5)\n",
            "Downloading memory_profiler-0.61.0-py3-none-any.whl (31 kB)\n",
            "Installing collected packages: memory_profiler\n",
            "Successfully installed memory_profiler-0.61.0\n"
          ]
        },
        {
          "output_type": "stream",
          "name": "stderr",
          "text": [
            "\n",
            "PYDEV DEBUGGER WARNING:\n",
            "sys.settrace() should not be used when the debugger is being used.\n",
            "This may cause the debugger to stop working correctly.\n",
            "If this is needed, please check: \n",
            "http://pydev.blogspot.com/2007/06/why-cant-pydev-debugger-work-with.html\n",
            "to see how to restore the debug tracing back correctly.\n",
            "Call Location:\n",
            "  File \"/usr/local/lib/python3.11/dist-packages/memory_profiler.py\", line 847, in enable\n",
            "    sys.settrace(self.trace_memory_usage)\n",
            "\n",
            "\n",
            "PYDEV DEBUGGER WARNING:\n",
            "sys.settrace() should not be used when the debugger is being used.\n",
            "This may cause the debugger to stop working correctly.\n",
            "If this is needed, please check: \n",
            "http://pydev.blogspot.com/2007/06/why-cant-pydev-debugger-work-with.html\n",
            "to see how to restore the debug tracing back correctly.\n",
            "Call Location:\n",
            "  File \"/usr/local/lib/python3.11/dist-packages/memory_profiler.py\", line 850, in disable\n",
            "    sys.settrace(self._original_trace_function)\n",
            "\n"
          ]
        },
        {
          "output_type": "stream",
          "name": "stdout",
          "text": [
            "ERROR: Could not find file <ipython-input-27-960b932c3bb2>\n",
            "NOTE: %mprun can only be used on functions defined in physical files, and not in the IPython environment.\n",
            "Sum of numbers: 499999500000\n",
            "ERROR: Could not find file <ipython-input-27-960b932c3bb2>\n",
            "NOTE: %mprun can only be used on functions defined in physical files, and not in the IPython environment.\n",
            "Sum of numbers: 499999500000\n"
          ]
        }
      ]
    },
    {
      "cell_type": "markdown",
      "source": [
        "17. Write a Python program to create and write a list of numbers to a file, one number per line"
      ],
      "metadata": {
        "id": "mU0CC7cfMEM1"
      }
    },
    {
      "cell_type": "code",
      "source": [
        "numbers = [1, 2, 3, 4, 5, 6, 7, 8, 9, 10]\n",
        "\n",
        "filename = \"numbers.txt\"\n",
        "\n",
        "with open(filename, 'w') as file:\n",
        "\n",
        "    for number in numbers:\n",
        "        file.write(f\"{number}\\n\")\n",
        "\n",
        "print(f\"Numbers have been written to {filename}\")\n"
      ],
      "metadata": {
        "colab": {
          "base_uri": "https://localhost:8080/"
        },
        "id": "vtEQchsBPh5-",
        "outputId": "3a9e6046-8376-4d77-bbf2-bebadc035675"
      },
      "execution_count": 28,
      "outputs": [
        {
          "output_type": "stream",
          "name": "stdout",
          "text": [
            "Numbers have been written to numbers.txt\n"
          ]
        }
      ]
    },
    {
      "cell_type": "markdown",
      "source": [
        "18. How would you implement a basic logging setup that logs to a file with rotation after 1MB"
      ],
      "metadata": {
        "id": "G3U2Uyb1MEFj"
      }
    },
    {
      "cell_type": "code",
      "source": [
        "import logging\n",
        "from logging.handlers import RotatingFileHandler\n",
        "\n",
        "log_filename = 'app.log'\n",
        "handler = RotatingFileHandler(log_filename, maxBytes=1*1024*1024, backupCount=3)\n",
        "\n",
        "handler.setLevel(logging.DEBUG)\n",
        "formatter = logging.Formatter('%(asctime)s - %(levelname)s - %(message)s')\n",
        "handler.setFormatter(formatter)\n",
        "\n",
        "logger = logging.getLogger()\n",
        "logger.setLevel(logging.DEBUG)\n",
        "logger.addHandler(handler)\n",
        "\n",
        "\n",
        "logger.debug('This is a debug message')\n",
        "logger.info('This is an info message')\n",
        "logger.warning('This is a warning message')\n",
        "logger.error('This is an error message')\n",
        "logger.critical('This is a critical message')\n",
        "\n",
        "print(\"Logging to file with rotation after 1MB\")\n"
      ],
      "metadata": {
        "colab": {
          "base_uri": "https://localhost:8080/"
        },
        "id": "HQwWBcwaPz2Q",
        "outputId": "b4ba011a-6b7c-478f-b72d-8bbfe861e3e6"
      },
      "execution_count": 29,
      "outputs": [
        {
          "output_type": "stream",
          "name": "stderr",
          "text": [
            "DEBUG:root:This is a debug message\n",
            "INFO:root:This is an info message\n",
            "WARNING:root:This is a warning message\n",
            "ERROR:root:This is an error message\n",
            "CRITICAL:root:This is a critical message\n"
          ]
        },
        {
          "output_type": "stream",
          "name": "stdout",
          "text": [
            "Logging to file with rotation after 1MB\n"
          ]
        }
      ]
    },
    {
      "cell_type": "markdown",
      "source": [
        "19.  Write a program that handles both IndexError and KeyError using a try-except block"
      ],
      "metadata": {
        "id": "GXqUV-p7MD_i"
      }
    },
    {
      "cell_type": "code",
      "source": [
        "def handle_errors():\n",
        "\n",
        "    my_list = [10, 20, 30]\n",
        "    my_dict = {'a': 1, 'b': 2, 'c': 3}\n",
        "\n",
        "    try:\n",
        "        print(my_list[5])\n",
        "        print(my_dict['d'])\n",
        "\n",
        "    except IndexError as ie:\n",
        "        print(f\"IndexError: {ie} - List index out of range.\")\n",
        "\n",
        "    except KeyError as ke:\n",
        "        print(f\"KeyError: {ke} - Key not found in dictionary.\")\n",
        "handle_errors()\n"
      ],
      "metadata": {
        "colab": {
          "base_uri": "https://localhost:8080/"
        },
        "id": "0kJW5OZHQM1y",
        "outputId": "00685b62-630e-40c4-9f94-d21c119e0b76"
      },
      "execution_count": 30,
      "outputs": [
        {
          "output_type": "stream",
          "name": "stdout",
          "text": [
            "IndexError: list index out of range - List index out of range.\n"
          ]
        }
      ]
    },
    {
      "cell_type": "markdown",
      "source": [
        "20. How would you open a file and read its contents using a context manager in Python"
      ],
      "metadata": {
        "id": "dgBdJYufMD5T"
      }
    },
    {
      "cell_type": "code",
      "source": [
        "filename = 'file.txt'\n",
        "\n",
        "with open(filename, 'r') as file:\n",
        "    content = file.read()\n",
        "\n",
        "\n",
        "    print(content)\n"
      ],
      "metadata": {
        "colab": {
          "base_uri": "https://localhost:8080/"
        },
        "id": "UPzkXHBdQbKz",
        "outputId": "b0e13ec6-0262-4742-81a2-f684d722eb18"
      },
      "execution_count": 32,
      "outputs": [
        {
          "output_type": "stream",
          "name": "stdout",
          "text": [
            "this is my filethis second line in file\n"
          ]
        }
      ]
    },
    {
      "cell_type": "markdown",
      "source": [
        "21. Write a Python program that reads a file and prints the number of occurrences of a specific word"
      ],
      "metadata": {
        "id": "DU1kgJHCMDzC"
      }
    },
    {
      "cell_type": "code",
      "source": [
        "def count_word_in_file(filename, word_to_count):\n",
        "    try:\n",
        "\n",
        "        with open(filename, 'r') as file:\n",
        "            content = file.read()\n",
        "\n",
        "        word_count = content.lower().split().count(word_to_count.lower())\n",
        "\n",
        "        print(f\"The word '{word_to_count}' appears {word_count} times in the file.\")\n",
        "\n",
        "    except FileNotFoundError:\n",
        "        print(f\"The file {filename} was not found.\")\n",
        "    except Exception as e:\n",
        "        print(f\"An error occurred: {e}\")\n",
        "filename = 'example.txt'\n",
        "word_to_count = 'Python'\n",
        "count_word_in_file(filename, word_to_count)\n"
      ],
      "metadata": {
        "colab": {
          "base_uri": "https://localhost:8080/"
        },
        "id": "g-DuYcrqQ34Z",
        "outputId": "5ab09a7e-9501-40d1-8398-1a7076329aec"
      },
      "execution_count": 34,
      "outputs": [
        {
          "output_type": "stream",
          "name": "stdout",
          "text": [
            "The file example.txt was not found.\n"
          ]
        }
      ]
    },
    {
      "cell_type": "markdown",
      "source": [
        "22. How can you check if a file is empty before attempting to read its contents"
      ],
      "metadata": {
        "id": "tbBzoKgpMDrw"
      }
    },
    {
      "cell_type": "code",
      "source": [
        "import os\n",
        "\n",
        "def read_file_if_not_empty(filename):\n",
        "    if os.path.exists(filename) and os.path.getsize(filename) > 0:\n",
        "        with open(filename, 'r') as file:\n",
        "            content = file.read()\n",
        "            print(\"File content:\")\n",
        "            print(content)\n",
        "    else:\n",
        "        print(f\"The file '{filename}' is either empty or does not exist.\")\n",
        "\n",
        "\n",
        "filename = 'example.txt'\n",
        "read_file_if_not_empty(filename)\n"
      ],
      "metadata": {
        "colab": {
          "base_uri": "https://localhost:8080/"
        },
        "id": "Ury9n5XSRFS3",
        "outputId": "d54657ad-2777-46f9-e6e5-4172c61a6ccf"
      },
      "execution_count": 35,
      "outputs": [
        {
          "output_type": "stream",
          "name": "stdout",
          "text": [
            "The file 'example.txt' is either empty or does not exist.\n"
          ]
        }
      ]
    },
    {
      "cell_type": "markdown",
      "source": [
        "23. Write a Python program that writes to a log file when an error occurs during file handling"
      ],
      "metadata": {
        "id": "Ov9_05DbMDj9"
      }
    },
    {
      "cell_type": "code",
      "execution_count": 36,
      "metadata": {
        "colab": {
          "base_uri": "https://localhost:8080/"
        },
        "id": "uZJZn0Fh3bok",
        "outputId": "861154ee-b8db-4754-f406-9c06fc0312ef"
      },
      "outputs": [
        {
          "output_type": "stream",
          "name": "stderr",
          "text": [
            "ERROR:root:FileNotFoundError: [Errno 2] No such file or directory: 'example.txt'\n"
          ]
        },
        {
          "output_type": "stream",
          "name": "stdout",
          "text": [
            "Error: The file was not found.\n"
          ]
        }
      ],
      "source": [
        "import logging\n",
        "\n",
        "# Configure the logging settings\n",
        "logging.basicConfig(\n",
        "    filename='file_handling.log',  # Log file to store the logs\n",
        "    level=logging.ERROR,           # Log level set to ERROR\n",
        "    format='%(asctime)s - %(levelname)s - %(message)s'  # Log format\n",
        ")\n",
        "\n",
        "def handle_file_operations():\n",
        "    try:\n",
        "        with open('example.txt', 'r') as file:\n",
        "            content = file.read()\n",
        "            print(content)\n",
        "\n",
        "    except FileNotFoundError as e:\n",
        "        logging.error(f\"FileNotFoundError: {e}\")\n",
        "        print(\"Error: The file was not found.\")\n",
        "\n",
        "    except IOError as e:\n",
        "        logging.error(f\"IOError: {e}\")\n",
        "        print(\"Error: There was an issue with file operations.\")\n",
        "\n",
        "    except Exception as e:\n",
        "        logging.error(f\"Unexpected error: {e}\")\n",
        "        print(\"Error: An unexpected error occurred.\")\n",
        "handle_file_operations()\n"
      ]
    },
    {
      "cell_type": "code",
      "source": [],
      "metadata": {
        "id": "yrfSTiUXRehT"
      },
      "execution_count": null,
      "outputs": []
    }
  ]
}